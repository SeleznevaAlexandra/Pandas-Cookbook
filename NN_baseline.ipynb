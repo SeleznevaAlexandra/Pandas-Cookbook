{
  "nbformat": 4,
  "nbformat_minor": 0,
  "metadata": {
    "kernelspec": {
      "name": "python3",
      "display_name": "Python 3"
    },
    "language_info": {
      "codemirror_mode": {
        "name": "ipython",
        "version": 3
      },
      "file_extension": ".py",
      "mimetype": "text/x-python",
      "name": "python",
      "nbconvert_exporter": "python",
      "pygments_lexer": "ipython3",
      "version": "3.7.4"
    },
    "colab": {
      "name": "NN_baseline.ipynb",
      "provenance": [],
      "collapsed_sections": [],
      "include_colab_link": true
    },
    "accelerator": "GPU",
    "widgets": {
      "application/vnd.jupyter.widget-state+json": {
        "ff458d2d3ab94434b4804ab0113369e0": {
          "model_module": "@jupyter-widgets/controls",
          "model_name": "HBoxModel",
          "state": {
            "_view_name": "HBoxView",
            "_dom_classes": [],
            "_model_name": "HBoxModel",
            "_view_module": "@jupyter-widgets/controls",
            "_model_module_version": "1.5.0",
            "_view_count": null,
            "_view_module_version": "1.5.0",
            "box_style": "",
            "layout": "IPY_MODEL_aacf01f436414841af11ebf25beff598",
            "_model_module": "@jupyter-widgets/controls",
            "children": [
              "IPY_MODEL_9949c31c0069489d977972c3a29799b7",
              "IPY_MODEL_db9ad70cadfc4deb8c2fce0203c91ce3"
            ]
          }
        },
        "aacf01f436414841af11ebf25beff598": {
          "model_module": "@jupyter-widgets/base",
          "model_name": "LayoutModel",
          "state": {
            "_view_name": "LayoutView",
            "grid_template_rows": null,
            "right": null,
            "justify_content": null,
            "_view_module": "@jupyter-widgets/base",
            "overflow": null,
            "_model_module_version": "1.2.0",
            "_view_count": null,
            "flex_flow": null,
            "width": null,
            "min_width": null,
            "border": null,
            "align_items": null,
            "bottom": null,
            "_model_module": "@jupyter-widgets/base",
            "top": null,
            "grid_column": null,
            "overflow_y": null,
            "overflow_x": null,
            "grid_auto_flow": null,
            "grid_area": null,
            "grid_template_columns": null,
            "flex": null,
            "_model_name": "LayoutModel",
            "justify_items": null,
            "grid_row": null,
            "max_height": null,
            "align_content": null,
            "visibility": null,
            "align_self": null,
            "height": null,
            "min_height": null,
            "padding": null,
            "grid_auto_rows": null,
            "grid_gap": null,
            "max_width": null,
            "order": null,
            "_view_module_version": "1.2.0",
            "grid_template_areas": null,
            "object_position": null,
            "object_fit": null,
            "grid_auto_columns": null,
            "margin": null,
            "display": null,
            "left": null
          }
        },
        "9949c31c0069489d977972c3a29799b7": {
          "model_module": "@jupyter-widgets/controls",
          "model_name": "IntProgressModel",
          "state": {
            "_view_name": "ProgressView",
            "style": "IPY_MODEL_f4c020ec551c4900a10ca6b6c593032b",
            "_dom_classes": [],
            "description": "",
            "_model_name": "IntProgressModel",
            "bar_style": "",
            "max": 1621,
            "_view_module": "@jupyter-widgets/controls",
            "_model_module_version": "1.5.0",
            "value": 901,
            "_view_count": null,
            "_view_module_version": "1.5.0",
            "orientation": "horizontal",
            "min": 0,
            "description_tooltip": null,
            "_model_module": "@jupyter-widgets/controls",
            "layout": "IPY_MODEL_83aad6cba4d647c3b84ac89edd1af4a7"
          }
        },
        "db9ad70cadfc4deb8c2fce0203c91ce3": {
          "model_module": "@jupyter-widgets/controls",
          "model_name": "HTMLModel",
          "state": {
            "_view_name": "HTMLView",
            "style": "IPY_MODEL_8b10b41f384f41e09388ef0dbfec1526",
            "_dom_classes": [],
            "description": "",
            "_model_name": "HTMLModel",
            "placeholder": "​",
            "_view_module": "@jupyter-widgets/controls",
            "_model_module_version": "1.5.0",
            "value": " 56% 901/1621 [01:46&lt;01:37,  7.40it/s]",
            "_view_count": null,
            "_view_module_version": "1.5.0",
            "description_tooltip": null,
            "_model_module": "@jupyter-widgets/controls",
            "layout": "IPY_MODEL_16c1e0d1a12c41b38767ec4c47b9c375"
          }
        },
        "f4c020ec551c4900a10ca6b6c593032b": {
          "model_module": "@jupyter-widgets/controls",
          "model_name": "ProgressStyleModel",
          "state": {
            "_view_name": "StyleView",
            "_model_name": "ProgressStyleModel",
            "description_width": "",
            "_view_module": "@jupyter-widgets/base",
            "_model_module_version": "1.5.0",
            "_view_count": null,
            "_view_module_version": "1.2.0",
            "bar_color": null,
            "_model_module": "@jupyter-widgets/controls"
          }
        },
        "83aad6cba4d647c3b84ac89edd1af4a7": {
          "model_module": "@jupyter-widgets/base",
          "model_name": "LayoutModel",
          "state": {
            "_view_name": "LayoutView",
            "grid_template_rows": null,
            "right": null,
            "justify_content": null,
            "_view_module": "@jupyter-widgets/base",
            "overflow": null,
            "_model_module_version": "1.2.0",
            "_view_count": null,
            "flex_flow": null,
            "width": null,
            "min_width": null,
            "border": null,
            "align_items": null,
            "bottom": null,
            "_model_module": "@jupyter-widgets/base",
            "top": null,
            "grid_column": null,
            "overflow_y": null,
            "overflow_x": null,
            "grid_auto_flow": null,
            "grid_area": null,
            "grid_template_columns": null,
            "flex": null,
            "_model_name": "LayoutModel",
            "justify_items": null,
            "grid_row": null,
            "max_height": null,
            "align_content": null,
            "visibility": null,
            "align_self": null,
            "height": null,
            "min_height": null,
            "padding": null,
            "grid_auto_rows": null,
            "grid_gap": null,
            "max_width": null,
            "order": null,
            "_view_module_version": "1.2.0",
            "grid_template_areas": null,
            "object_position": null,
            "object_fit": null,
            "grid_auto_columns": null,
            "margin": null,
            "display": null,
            "left": null
          }
        },
        "8b10b41f384f41e09388ef0dbfec1526": {
          "model_module": "@jupyter-widgets/controls",
          "model_name": "DescriptionStyleModel",
          "state": {
            "_view_name": "StyleView",
            "_model_name": "DescriptionStyleModel",
            "description_width": "",
            "_view_module": "@jupyter-widgets/base",
            "_model_module_version": "1.5.0",
            "_view_count": null,
            "_view_module_version": "1.2.0",
            "_model_module": "@jupyter-widgets/controls"
          }
        },
        "16c1e0d1a12c41b38767ec4c47b9c375": {
          "model_module": "@jupyter-widgets/base",
          "model_name": "LayoutModel",
          "state": {
            "_view_name": "LayoutView",
            "grid_template_rows": null,
            "right": null,
            "justify_content": null,
            "_view_module": "@jupyter-widgets/base",
            "overflow": null,
            "_model_module_version": "1.2.0",
            "_view_count": null,
            "flex_flow": null,
            "width": null,
            "min_width": null,
            "border": null,
            "align_items": null,
            "bottom": null,
            "_model_module": "@jupyter-widgets/base",
            "top": null,
            "grid_column": null,
            "overflow_y": null,
            "overflow_x": null,
            "grid_auto_flow": null,
            "grid_area": null,
            "grid_template_columns": null,
            "flex": null,
            "_model_name": "LayoutModel",
            "justify_items": null,
            "grid_row": null,
            "max_height": null,
            "align_content": null,
            "visibility": null,
            "align_self": null,
            "height": null,
            "min_height": null,
            "padding": null,
            "grid_auto_rows": null,
            "grid_gap": null,
            "max_width": null,
            "order": null,
            "_view_module_version": "1.2.0",
            "grid_template_areas": null,
            "object_position": null,
            "object_fit": null,
            "grid_auto_columns": null,
            "margin": null,
            "display": null,
            "left": null
          }
        }
      }
    }
  },
  "cells": [
    {
      "cell_type": "markdown",
      "metadata": {
        "id": "view-in-github",
        "colab_type": "text"
      },
      "source": [
        "<a href=\"https://colab.research.google.com/github/SeleznevaAlexandra/Pandas-Cookbook/blob/master/NN_baseline.ipynb\" target=\"_parent\"><img src=\"https://colab.research.google.com/assets/colab-badge.svg\" alt=\"Open In Colab\"/></a>"
      ]
    },
    {
      "cell_type": "code",
      "metadata": {
        "id": "KcIts_nWltvA",
        "colab_type": "code",
        "colab": {}
      },
      "source": [
        "import time \n",
        "import torch \n",
        "import pickle \n",
        "import warnings \n",
        "import numpy as np \n",
        "import pandas as pd \n",
        "import torch.nn as nn \n",
        "import torch.optim as optim \n",
        "from sklearn.metrics import f1_score\n",
        "from tqdm import tqdm_notebook\n",
        "from sklearn.preprocessing import LabelEncoder\n",
        "from sklearn.model_selection import train_test_split\n",
        "from torchtext.data import Field, BucketIterator, TabularDataset, Iterator\n",
        "from sklearn.feature_extraction.text import CountVectorizer\n",
        "from sklearn.linear_model import LogisticRegression"
      ],
      "execution_count": 0,
      "outputs": []
    },
    {
      "cell_type": "code",
      "metadata": {
        "id": "ql-uEc7tmAT2",
        "colab_type": "code",
        "outputId": "a158200c-51c6-4c4a-fe08-9b1afe774e96",
        "colab": {
          "base_uri": "https://localhost:8080/",
          "height": 124
        }
      },
      "source": [
        "# подключем гуглдиск \n",
        "\n",
        "from google.colab import drive\n",
        "drive.mount('/content/drive')"
      ],
      "execution_count": 3,
      "outputs": [
        {
          "output_type": "stream",
          "text": [
            "Go to this URL in a browser: https://accounts.google.com/o/oauth2/auth?client_id=947318989803-6bn6qk8qdgf4n4g3pfee6491hc0brc4i.apps.googleusercontent.com&redirect_uri=urn%3aietf%3awg%3aoauth%3a2.0%3aoob&response_type=code&scope=email%20https%3a%2f%2fwww.googleapis.com%2fauth%2fdocs.test%20https%3a%2f%2fwww.googleapis.com%2fauth%2fdrive%20https%3a%2f%2fwww.googleapis.com%2fauth%2fdrive.photos.readonly%20https%3a%2f%2fwww.googleapis.com%2fauth%2fpeopleapi.readonly\n",
            "\n",
            "Enter your authorization code:\n",
            "··········\n",
            "Mounted at /content/drive\n"
          ],
          "name": "stdout"
        }
      ]
    },
    {
      "cell_type": "code",
      "metadata": {
        "id": "uYwkFd7DltvF",
        "colab_type": "code",
        "colab": {}
      },
      "source": [
        "# магия, чтобы наша модель училась на видеокарте \n",
        "torch.manual_seed(0) \n",
        "torch.backends.cudnn.deterministic = True \n",
        "torch.backends.cudnn.benchmark = False \n",
        "np.random.seed(0) \n",
        "\n",
        "pd.set_option('display.max_colwidth', -1) \n",
        "pd.set_option(\"display.max_rows\", 1000) \n",
        "\n",
        "device = torch.device(\"cuda:0\")\n",
        "torch.cuda.set_device(0)\n",
        "\n",
        "warnings.filterwarnings('ignore')"
      ],
      "execution_count": 0,
      "outputs": []
    },
    {
      "cell_type": "markdown",
      "metadata": {
        "id": "LA460XHVltvJ",
        "colab_type": "text"
      },
      "source": [
        "# ____________________"
      ]
    },
    {
      "cell_type": "code",
      "metadata": {
        "id": "a5RaJNCXltvK",
        "colab_type": "code",
        "colab": {}
      },
      "source": [
        "data = pd.read_csv('/content/drive/My Drive/Shift/data_train.csv')"
      ],
      "execution_count": 0,
      "outputs": []
    },
    {
      "cell_type": "code",
      "metadata": {
        "id": "IlAhchhx49C2",
        "colab_type": "code",
        "colab": {}
      },
      "source": [
        "data_test = pd.read_csv('/content/drive/My Drive/Shift/data_test.csv')"
      ],
      "execution_count": 0,
      "outputs": []
    },
    {
      "cell_type": "code",
      "metadata": {
        "id": "2LWG_JYyltvN",
        "colab_type": "code",
        "outputId": "12ad3150-7bf0-4119-948f-8805a26fcb1d",
        "colab": {
          "base_uri": "https://localhost:8080/",
          "height": 202
        }
      },
      "source": [
        "data_test.head()"
      ],
      "execution_count": 7,
      "outputs": [
        {
          "output_type": "execute_result",
          "data": {
            "text/html": [
              "<div>\n",
              "<style scoped>\n",
              "    .dataframe tbody tr th:only-of-type {\n",
              "        vertical-align: middle;\n",
              "    }\n",
              "\n",
              "    .dataframe tbody tr th {\n",
              "        vertical-align: top;\n",
              "    }\n",
              "\n",
              "    .dataframe thead th {\n",
              "        text-align: right;\n",
              "    }\n",
              "</style>\n",
              "<table border=\"1\" class=\"dataframe\">\n",
              "  <thead>\n",
              "    <tr style=\"text-align: right;\">\n",
              "      <th></th>\n",
              "      <th>FULLNAME</th>\n",
              "    </tr>\n",
              "  </thead>\n",
              "  <tbody>\n",
              "    <tr>\n",
              "      <th>0</th>\n",
              "      <td>LUK'JANOVA IRINA IGNAT'EVNA</td>\n",
              "    </tr>\n",
              "    <tr>\n",
              "      <th>1</th>\n",
              "      <td>BARMIN MIHAIL ALEKSEEVICH</td>\n",
              "    </tr>\n",
              "    <tr>\n",
              "      <th>2</th>\n",
              "      <td>БЕРДОВСКИЙ АНТОН ИВАНОВИЧ</td>\n",
              "    </tr>\n",
              "    <tr>\n",
              "      <th>3</th>\n",
              "      <td>BARABASH SERGEJ IVANOVICH</td>\n",
              "    </tr>\n",
              "    <tr>\n",
              "      <th>4</th>\n",
              "      <td>ЗУДЕРМАН ЯКОВ ЯКОВЛЕВИЧ</td>\n",
              "    </tr>\n",
              "  </tbody>\n",
              "</table>\n",
              "</div>"
            ],
            "text/plain": [
              "                      FULLNAME\n",
              "0  LUK'JANOVA IRINA IGNAT'EVNA\n",
              "1  BARMIN MIHAIL ALEKSEEVICH  \n",
              "2  БЕРДОВСКИЙ АНТОН ИВАНОВИЧ  \n",
              "3  BARABASH SERGEJ IVANOVICH  \n",
              "4  ЗУДЕРМАН ЯКОВ ЯКОВЛЕВИЧ    "
            ]
          },
          "metadata": {
            "tags": []
          },
          "execution_count": 7
        }
      ]
    },
    {
      "cell_type": "code",
      "metadata": {
        "id": "G9Scvs8Rmos0",
        "colab_type": "code",
        "colab": {
          "base_uri": "https://localhost:8080/",
          "height": 202
        },
        "outputId": "649ed2ce-2cfc-437a-97c0-01b0da213fb9"
      },
      "source": [
        "data.head()"
      ],
      "execution_count": 8,
      "outputs": [
        {
          "output_type": "execute_result",
          "data": {
            "text/html": [
              "<div>\n",
              "<style scoped>\n",
              "    .dataframe tbody tr th:only-of-type {\n",
              "        vertical-align: middle;\n",
              "    }\n",
              "\n",
              "    .dataframe tbody tr th {\n",
              "        vertical-align: top;\n",
              "    }\n",
              "\n",
              "    .dataframe thead th {\n",
              "        text-align: right;\n",
              "    }\n",
              "</style>\n",
              "<table border=\"1\" class=\"dataframe\">\n",
              "  <thead>\n",
              "    <tr style=\"text-align: right;\">\n",
              "      <th></th>\n",
              "      <th>FULLNAME</th>\n",
              "      <th>NATION</th>\n",
              "      <th>GENDER</th>\n",
              "    </tr>\n",
              "  </thead>\n",
              "  <tbody>\n",
              "    <tr>\n",
              "      <th>0</th>\n",
              "      <td>СТОПНИЦКИЙ БЕРЕК ГЕРШОВИЧ</td>\n",
              "      <td>ЕВРЕЙ</td>\n",
              "      <td>м</td>\n",
              "    </tr>\n",
              "    <tr>\n",
              "      <th>1</th>\n",
              "      <td>МИЛЛЕР МАРИЯ ЯКОВЛЕВНА</td>\n",
              "      <td>НЕМЕЦ</td>\n",
              "      <td>ж</td>\n",
              "    </tr>\n",
              "    <tr>\n",
              "      <th>2</th>\n",
              "      <td>FAIZOV FATTAH</td>\n",
              "      <td>ТАТАРИН</td>\n",
              "      <td>м</td>\n",
              "    </tr>\n",
              "    <tr>\n",
              "      <th>3</th>\n",
              "      <td>ЗАНИН МАКСИМ ЯКОВЛЕВИЧ</td>\n",
              "      <td>РУССКИЙ</td>\n",
              "      <td>м</td>\n",
              "    </tr>\n",
              "    <tr>\n",
              "      <th>4</th>\n",
              "      <td>МАЛЬЦЕВ ЯКОВ КОНДРАТЬЕВИЧ</td>\n",
              "      <td>РУССКИЙ</td>\n",
              "      <td>м</td>\n",
              "    </tr>\n",
              "  </tbody>\n",
              "</table>\n",
              "</div>"
            ],
            "text/plain": [
              "                    FULLNAME   NATION GENDER\n",
              "0  СТОПНИЦКИЙ БЕРЕК ГЕРШОВИЧ  ЕВРЕЙ    м    \n",
              "1  МИЛЛЕР МАРИЯ ЯКОВЛЕВНА     НЕМЕЦ    ж    \n",
              "2  FAIZOV FATTAH              ТАТАРИН  м    \n",
              "3  ЗАНИН МАКСИМ ЯКОВЛЕВИЧ     РУССКИЙ  м    \n",
              "4  МАЛЬЦЕВ ЯКОВ КОНДРАТЬЕВИЧ  РУССКИЙ  м    "
            ]
          },
          "metadata": {
            "tags": []
          },
          "execution_count": 8
        }
      ]
    },
    {
      "cell_type": "code",
      "metadata": {
        "id": "fYasK7SYzRzB",
        "colab_type": "code",
        "colab": {
          "base_uri": "https://localhost:8080/",
          "height": 104
        },
        "outputId": "2cfdc2dc-927b-4772-aa45-47184ccbd548"
      },
      "source": [
        "X_train = data.FULLNAME.values\n",
        "gender_train = data.GENDER.values\n",
        "vectorizer = CountVectorizer(analyzer='char', ngram_range=(3,3))\n",
        "X_train = vectorizer.fit_transform(X_train)\n",
        "gender_model = LogisticRegression()\n",
        "gender_model.fit(X_train, gender_train)\n"
      ],
      "execution_count": 11,
      "outputs": [
        {
          "output_type": "execute_result",
          "data": {
            "text/plain": [
              "LogisticRegression(C=1.0, class_weight=None, dual=False, fit_intercept=True,\n",
              "                   intercept_scaling=1, l1_ratio=None, max_iter=100,\n",
              "                   multi_class='auto', n_jobs=None, penalty='l2',\n",
              "                   random_state=None, solver='lbfgs', tol=0.0001, verbose=0,\n",
              "                   warm_start=False)"
            ]
          },
          "metadata": {
            "tags": []
          },
          "execution_count": 11
        }
      ]
    },
    {
      "cell_type": "code",
      "metadata": {
        "id": "6DAExYkU1_rU",
        "colab_type": "code",
        "colab": {
          "base_uri": "https://localhost:8080/",
          "height": 35
        },
        "outputId": "eebcc0a1-3c73-4005-fd6c-736bcb600f47"
      },
      "source": [
        "X = vectorizer.transform(['Павлюк Екатерина Владимировна'])\n",
        "gender_model.predict(X)[0]"
      ],
      "execution_count": 12,
      "outputs": [
        {
          "output_type": "execute_result",
          "data": {
            "text/plain": [
              "'ж'"
            ]
          },
          "metadata": {
            "tags": []
          },
          "execution_count": 12
        }
      ]
    },
    {
      "cell_type": "code",
      "metadata": {
        "id": "osSHjA2pltvS",
        "colab_type": "code",
        "colab": {}
      },
      "source": [
        "# \n",
        "def split_fio(s):\n",
        "    return s.replace(' ', '#').replace('', ' ')[1:-1]"
      ],
      "execution_count": 0,
      "outputs": []
    },
    {
      "cell_type": "code",
      "metadata": {
        "id": "_MqDxQNCltvV",
        "colab_type": "code",
        "colab": {}
      },
      "source": [
        "data.FULLNAME = data.FULLNAME.apply(split_fio)"
      ],
      "execution_count": 0,
      "outputs": []
    },
    {
      "cell_type": "code",
      "metadata": {
        "id": "hcsAImOqltvY",
        "colab_type": "code",
        "outputId": "baddce43-c732-4598-fe55-916104a24bbd",
        "colab": {
          "base_uri": "https://localhost:8080/",
          "height": 202
        }
      },
      "source": [
        "data.head()"
      ],
      "execution_count": 15,
      "outputs": [
        {
          "output_type": "execute_result",
          "data": {
            "text/html": [
              "<div>\n",
              "<style scoped>\n",
              "    .dataframe tbody tr th:only-of-type {\n",
              "        vertical-align: middle;\n",
              "    }\n",
              "\n",
              "    .dataframe tbody tr th {\n",
              "        vertical-align: top;\n",
              "    }\n",
              "\n",
              "    .dataframe thead th {\n",
              "        text-align: right;\n",
              "    }\n",
              "</style>\n",
              "<table border=\"1\" class=\"dataframe\">\n",
              "  <thead>\n",
              "    <tr style=\"text-align: right;\">\n",
              "      <th></th>\n",
              "      <th>FULLNAME</th>\n",
              "      <th>NATION</th>\n",
              "      <th>GENDER</th>\n",
              "    </tr>\n",
              "  </thead>\n",
              "  <tbody>\n",
              "    <tr>\n",
              "      <th>0</th>\n",
              "      <td>С Т О П Н И Ц К И Й # Б Е Р Е К # Г Е Р Ш О В И Ч</td>\n",
              "      <td>ЕВРЕЙ</td>\n",
              "      <td>м</td>\n",
              "    </tr>\n",
              "    <tr>\n",
              "      <th>1</th>\n",
              "      <td>М И Л Л Е Р # М А Р И Я # Я К О В Л Е В Н А</td>\n",
              "      <td>НЕМЕЦ</td>\n",
              "      <td>ж</td>\n",
              "    </tr>\n",
              "    <tr>\n",
              "      <th>2</th>\n",
              "      <td>F A I Z O V # F A T T A H #</td>\n",
              "      <td>ТАТАРИН</td>\n",
              "      <td>м</td>\n",
              "    </tr>\n",
              "    <tr>\n",
              "      <th>3</th>\n",
              "      <td>З А Н И Н # М А К С И М # Я К О В Л Е В И Ч</td>\n",
              "      <td>РУССКИЙ</td>\n",
              "      <td>м</td>\n",
              "    </tr>\n",
              "    <tr>\n",
              "      <th>4</th>\n",
              "      <td>М А Л Ь Ц Е В # Я К О В # К О Н Д Р А Т Ь Е В И Ч</td>\n",
              "      <td>РУССКИЙ</td>\n",
              "      <td>м</td>\n",
              "    </tr>\n",
              "  </tbody>\n",
              "</table>\n",
              "</div>"
            ],
            "text/plain": [
              "                                            FULLNAME   NATION GENDER\n",
              "0  С Т О П Н И Ц К И Й # Б Е Р Е К # Г Е Р Ш О В И Ч  ЕВРЕЙ    м    \n",
              "1  М И Л Л Е Р # М А Р И Я # Я К О В Л Е В Н А        НЕМЕЦ    ж    \n",
              "2  F A I Z O V # F A T T A H #                        ТАТАРИН  м    \n",
              "3  З А Н И Н # М А К С И М # Я К О В Л Е В И Ч        РУССКИЙ  м    \n",
              "4  М А Л Ь Ц Е В # Я К О В # К О Н Д Р А Т Ь Е В И Ч  РУССКИЙ  м    "
            ]
          },
          "metadata": {
            "tags": []
          },
          "execution_count": 15
        }
      ]
    },
    {
      "cell_type": "code",
      "metadata": {
        "id": "OMzMYvyPltva",
        "colab_type": "code",
        "colab": {}
      },
      "source": [
        "data = data[['FULLNAME', 'NATION']]"
      ],
      "execution_count": 0,
      "outputs": []
    },
    {
      "cell_type": "code",
      "metadata": {
        "id": "4EYMXbOXltvc",
        "colab_type": "code",
        "colab": {}
      },
      "source": [
        "# кодируем нацию \n",
        "encoder = LabelEncoder()\n",
        "data.NATION = encoder.fit_transform(data.NATION)"
      ],
      "execution_count": 0,
      "outputs": []
    },
    {
      "cell_type": "code",
      "metadata": {
        "id": "5kPHEfobltvf",
        "colab_type": "code",
        "outputId": "b175c1ab-3981-43af-ce50-85a98a6bbbee",
        "colab": {
          "base_uri": "https://localhost:8080/",
          "height": 202
        }
      },
      "source": [
        "data.head()"
      ],
      "execution_count": 18,
      "outputs": [
        {
          "output_type": "execute_result",
          "data": {
            "text/html": [
              "<div>\n",
              "<style scoped>\n",
              "    .dataframe tbody tr th:only-of-type {\n",
              "        vertical-align: middle;\n",
              "    }\n",
              "\n",
              "    .dataframe tbody tr th {\n",
              "        vertical-align: top;\n",
              "    }\n",
              "\n",
              "    .dataframe thead th {\n",
              "        text-align: right;\n",
              "    }\n",
              "</style>\n",
              "<table border=\"1\" class=\"dataframe\">\n",
              "  <thead>\n",
              "    <tr style=\"text-align: right;\">\n",
              "      <th></th>\n",
              "      <th>FULLNAME</th>\n",
              "      <th>NATION</th>\n",
              "    </tr>\n",
              "  </thead>\n",
              "  <tbody>\n",
              "    <tr>\n",
              "      <th>0</th>\n",
              "      <td>С Т О П Н И Ц К И Й # Б Е Р Е К # Г Е Р Ш О В И Ч</td>\n",
              "      <td>50</td>\n",
              "    </tr>\n",
              "    <tr>\n",
              "      <th>1</th>\n",
              "      <td>М И Л Л Е Р # М А Р И Я # Я К О В Л Е В Н А</td>\n",
              "      <td>114</td>\n",
              "    </tr>\n",
              "    <tr>\n",
              "      <th>2</th>\n",
              "      <td>F A I Z O V # F A T T A H #</td>\n",
              "      <td>141</td>\n",
              "    </tr>\n",
              "    <tr>\n",
              "      <th>3</th>\n",
              "      <td>З А Н И Н # М А К С И М # Я К О В Л Е В И Ч</td>\n",
              "      <td>128</td>\n",
              "    </tr>\n",
              "    <tr>\n",
              "      <th>4</th>\n",
              "      <td>М А Л Ь Ц Е В # Я К О В # К О Н Д Р А Т Ь Е В И Ч</td>\n",
              "      <td>128</td>\n",
              "    </tr>\n",
              "  </tbody>\n",
              "</table>\n",
              "</div>"
            ],
            "text/plain": [
              "                                            FULLNAME  NATION\n",
              "0  С Т О П Н И Ц К И Й # Б Е Р Е К # Г Е Р Ш О В И Ч  50    \n",
              "1  М И Л Л Е Р # М А Р И Я # Я К О В Л Е В Н А        114   \n",
              "2  F A I Z O V # F A T T A H #                        141   \n",
              "3  З А Н И Н # М А К С И М # Я К О В Л Е В И Ч        128   \n",
              "4  М А Л Ь Ц Е В # Я К О В # К О Н Д Р А Т Ь Е В И Ч  128   "
            ]
          },
          "metadata": {
            "tags": []
          },
          "execution_count": 18
        }
      ]
    },
    {
      "cell_type": "code",
      "metadata": {
        "id": "w3fT6G5Bltvi",
        "colab_type": "code",
        "outputId": "937a285a-be1c-4b85-dc44-024be1335b08",
        "colab": {
          "base_uri": "https://localhost:8080/",
          "height": 35
        }
      },
      "source": [
        "len(set(data.NATION))"
      ],
      "execution_count": 19,
      "outputs": [
        {
          "output_type": "execute_result",
          "data": {
            "text/plain": [
              "188"
            ]
          },
          "metadata": {
            "tags": []
          },
          "execution_count": 19
        }
      ]
    },
    {
      "cell_type": "code",
      "metadata": {
        "id": "0VaEyNvSltvk",
        "colab_type": "code",
        "colab": {}
      },
      "source": [
        "# создает файл и сохраняет \n",
        "with open('/content/drive/My Drive/Shift/label_enc.pkl', 'wb') as f:\n",
        "    pickle.dump(encoder, f)"
      ],
      "execution_count": 0,
      "outputs": []
    },
    {
      "cell_type": "code",
      "metadata": {
        "id": "6dFWi2yhltvm",
        "colab_type": "code",
        "colab": {}
      },
      "source": [
        "# задаем тестовую выборку \n",
        "train, val = train_test_split(data, test_size=0.2, random_state=42)"
      ],
      "execution_count": 0,
      "outputs": []
    },
    {
      "cell_type": "code",
      "metadata": {
        "id": "pfKr0PI8ltvn",
        "colab_type": "code",
        "colab": {}
      },
      "source": [
        "# сохраняем в формате csv \n",
        "train.to_csv('/content/drive/My Drive/Shift/train.csv', index=None)\n",
        "val.to_csv('/content/drive/My Drive/Shift/test.csv', index=None)"
      ],
      "execution_count": 0,
      "outputs": []
    },
    {
      "cell_type": "code",
      "metadata": {
        "id": "GxHaju185Eq5",
        "colab_type": "code",
        "colab": {}
      },
      "source": [
        "#\n",
        "data_test.FULLNAME = data_test.FULLNAME.apply(split_fio)"
      ],
      "execution_count": 0,
      "outputs": []
    },
    {
      "cell_type": "code",
      "metadata": {
        "id": "2APEPq7D5Is0",
        "colab_type": "code",
        "outputId": "58097c53-999d-4dce-fd36-ad932c761f1c",
        "colab": {
          "base_uri": "https://localhost:8080/",
          "height": 202
        }
      },
      "source": [
        "data_test.head()"
      ],
      "execution_count": 24,
      "outputs": [
        {
          "output_type": "execute_result",
          "data": {
            "text/html": [
              "<div>\n",
              "<style scoped>\n",
              "    .dataframe tbody tr th:only-of-type {\n",
              "        vertical-align: middle;\n",
              "    }\n",
              "\n",
              "    .dataframe tbody tr th {\n",
              "        vertical-align: top;\n",
              "    }\n",
              "\n",
              "    .dataframe thead th {\n",
              "        text-align: right;\n",
              "    }\n",
              "</style>\n",
              "<table border=\"1\" class=\"dataframe\">\n",
              "  <thead>\n",
              "    <tr style=\"text-align: right;\">\n",
              "      <th></th>\n",
              "      <th>FULLNAME</th>\n",
              "    </tr>\n",
              "  </thead>\n",
              "  <tbody>\n",
              "    <tr>\n",
              "      <th>0</th>\n",
              "      <td>L U K ' J A N O V A # I R I N A # I G N A T ' E V N A</td>\n",
              "    </tr>\n",
              "    <tr>\n",
              "      <th>1</th>\n",
              "      <td>B A R M I N # M I H A I L # A L E K S E E V I C H</td>\n",
              "    </tr>\n",
              "    <tr>\n",
              "      <th>2</th>\n",
              "      <td>Б Е Р Д О В С К И Й # А Н Т О Н # И В А Н О В И Ч</td>\n",
              "    </tr>\n",
              "    <tr>\n",
              "      <th>3</th>\n",
              "      <td>B A R A B A S H # S E R G E J # I V A N O V I C H</td>\n",
              "    </tr>\n",
              "    <tr>\n",
              "      <th>4</th>\n",
              "      <td>З У Д Е Р М А Н # Я К О В # Я К О В Л Е В И Ч</td>\n",
              "    </tr>\n",
              "  </tbody>\n",
              "</table>\n",
              "</div>"
            ],
            "text/plain": [
              "                                                FULLNAME\n",
              "0  L U K ' J A N O V A # I R I N A # I G N A T ' E V N A\n",
              "1  B A R M I N # M I H A I L # A L E K S E E V I C H    \n",
              "2  Б Е Р Д О В С К И Й # А Н Т О Н # И В А Н О В И Ч    \n",
              "3  B A R A B A S H # S E R G E J # I V A N O V I C H    \n",
              "4  З У Д Е Р М А Н # Я К О В # Я К О В Л Е В И Ч        "
            ]
          },
          "metadata": {
            "tags": []
          },
          "execution_count": 24
        }
      ]
    },
    {
      "cell_type": "code",
      "metadata": {
        "id": "J-kgMyJ95Lu-",
        "colab_type": "code",
        "colab": {}
      },
      "source": [
        "# запись \n",
        "data_test.to_csv('/content/drive/My Drive/Shift/comp_test.csv', index=None)"
      ],
      "execution_count": 0,
      "outputs": []
    },
    {
      "cell_type": "markdown",
      "metadata": {
        "id": "UYD4xpyoltvp",
        "colab_type": "text"
      },
      "source": [
        "# ___________________"
      ]
    },
    {
      "cell_type": "code",
      "metadata": {
        "id": "lQXm6RZjltvp",
        "colab_type": "code",
        "colab": {}
      },
      "source": [
        "# \n",
        "tokenize = lambda x: x.split(' ')"
      ],
      "execution_count": 0,
      "outputs": []
    },
    {
      "cell_type": "code",
      "metadata": {
        "id": "vr2DBBxLltvr",
        "colab_type": "code",
        "colab": {}
      },
      "source": [
        "# привоим данные к удобному виду \n",
        "TEXT = Field(sequential=True, tokenize=tokenize, lower=True)\n",
        "LABEL = Field(sequential=False, use_vocab=False, is_target=True)"
      ],
      "execution_count": 0,
      "outputs": []
    },
    {
      "cell_type": "code",
      "metadata": {
        "id": "CjMvZrUBltvs",
        "colab_type": "code",
        "colab": {}
      },
      "source": [
        "# тензор \n",
        "nation_fields = [('FULLNAME', TEXT), ('NATION', LABEL)]"
      ],
      "execution_count": 0,
      "outputs": []
    },
    {
      "cell_type": "code",
      "metadata": {
        "id": "kEUsTQzsltvu",
        "colab_type": "code",
        "colab": {}
      },
      "source": [
        "# \n",
        "trn, vld = TabularDataset.splits(path='/content/drive/My Drive/Shift/',\n",
        "                                 train='train.csv',\n",
        "                                 validation=\"test.csv\",\n",
        "                                 format='csv',\n",
        "                                 skip_header=True,\n",
        "                                 fields=nation_fields)"
      ],
      "execution_count": 0,
      "outputs": []
    },
    {
      "cell_type": "code",
      "metadata": {
        "id": "nkprP75Vltvv",
        "colab_type": "code",
        "colab": {}
      },
      "source": [
        "TEXT.build_vocab(trn)"
      ],
      "execution_count": 0,
      "outputs": []
    },
    {
      "cell_type": "code",
      "metadata": {
        "id": "L34kvCRfltvw",
        "colab_type": "code",
        "outputId": "059601a5-fb75-4454-b102-1eeb28bd35d5",
        "colab": {
          "base_uri": "https://localhost:8080/",
          "height": 191
        }
      },
      "source": [
        "TEXT.vocab.freqs.most_common(10)"
      ],
      "execution_count": 49,
      "outputs": [
        {
          "output_type": "execute_result",
          "data": {
            "text/plain": [
              "[('#', 1668122),\n",
              " ('a', 1098630),\n",
              " ('i', 1076177),\n",
              " ('и', 1075400),\n",
              " ('а', 1005061),\n",
              " ('v', 857512),\n",
              " ('в', 857228),\n",
              " ('o', 796645),\n",
              " ('о', 796621),\n",
              " ('e', 712919)]"
            ]
          },
          "metadata": {
            "tags": []
          },
          "execution_count": 49
        }
      ]
    },
    {
      "cell_type": "code",
      "metadata": {
        "id": "EQLMHcstltvy",
        "colab_type": "code",
        "outputId": "034bd8fc-85cf-4235-80a5-64b0936e448f",
        "colab": {
          "base_uri": "https://localhost:8080/",
          "height": 1000
        }
      },
      "source": [
        "TEXT.vocab.stoi"
      ],
      "execution_count": 34,
      "outputs": [
        {
          "output_type": "execute_result",
          "data": {
            "text/plain": [
              "defaultdict(<function torchtext.vocab._default_unk_index>,\n",
              "            {'\"': 72,\n",
              "             '#': 2,\n",
              "             '$': 71,\n",
              "             \"'\": 44,\n",
              "             '(': 64,\n",
              "             ')': 63,\n",
              "             '*': 73,\n",
              "             ',': 75,\n",
              "             '-': 56,\n",
              "             '.': 60,\n",
              "             '/': 68,\n",
              "             '0': 67,\n",
              "             '1': 77,\n",
              "             '2': 76,\n",
              "             '3': 78,\n",
              "             '4': 79,\n",
              "             '8': 74,\n",
              "             '9': 80,\n",
              "             ':': 65,\n",
              "             '<': 69,\n",
              "             '<pad>': 1,\n",
              "             '<unk>': 0,\n",
              "             '=': 81,\n",
              "             '>': 70,\n",
              "             '?': 62,\n",
              "             'a': 3,\n",
              "             'b': 42,\n",
              "             'c': 23,\n",
              "             'd': 31,\n",
              "             'e': 11,\n",
              "             'f': 40,\n",
              "             'g': 35,\n",
              "             'h': 15,\n",
              "             'i': 4,\n",
              "             'j': 28,\n",
              "             'k': 22,\n",
              "             'l': 19,\n",
              "             'm': 29,\n",
              "             'n': 14,\n",
              "             'o': 9,\n",
              "             'p': 38,\n",
              "             'r': 16,\n",
              "             's': 18,\n",
              "             't': 26,\n",
              "             'u': 33,\n",
              "             'v': 7,\n",
              "             'y': 52,\n",
              "             'z': 47,\n",
              "             '\\xa0': 66,\n",
              "             'а': 6,\n",
              "             'б': 41,\n",
              "             'в': 8,\n",
              "             'г': 34,\n",
              "             'д': 32,\n",
              "             'е': 12,\n",
              "             'ж': 54,\n",
              "             'з': 49,\n",
              "             'и': 5,\n",
              "             'й': 36,\n",
              "             'к': 21,\n",
              "             'л': 20,\n",
              "             'м': 30,\n",
              "             'н': 13,\n",
              "             'о': 10,\n",
              "             'п': 39,\n",
              "             'р': 17,\n",
              "             'с': 25,\n",
              "             'т': 27,\n",
              "             'у': 37,\n",
              "             'ф': 43,\n",
              "             'х': 46,\n",
              "             'ц': 51,\n",
              "             'ч': 24,\n",
              "             'ш': 50,\n",
              "             'щ': 58,\n",
              "             'ъ': 61,\n",
              "             'ы': 53,\n",
              "             'ь': 45,\n",
              "             'э': 57,\n",
              "             'ю': 55,\n",
              "             'я': 48,\n",
              "             'ё': 59})"
            ]
          },
          "metadata": {
            "tags": []
          },
          "execution_count": 34
        }
      ]
    },
    {
      "cell_type": "code",
      "metadata": {
        "id": "ryFHiNY7ltv0",
        "colab_type": "code",
        "colab": {}
      },
      "source": [
        "batch_size = 512"
      ],
      "execution_count": 0,
      "outputs": []
    },
    {
      "cell_type": "code",
      "metadata": {
        "id": "jXNkkHshltv1",
        "colab_type": "code",
        "colab": {}
      },
      "source": [
        "# как будем ходить по ншим данным и как будем их брать \n",
        "train_iter, val_iter = BucketIterator.splits((trn, vld),\n",
        "                                             batch_sizes=(batch_size, batch_size),\n",
        "                                             device=device,\n",
        "                                             sort_key=lambda x: len(x.FULLNAME),\n",
        "                                             sort_within_batch=False,\n",
        "                                             repeat=False)"
      ],
      "execution_count": 0,
      "outputs": []
    },
    {
      "cell_type": "code",
      "metadata": {
        "id": "iLQ_nQvSltv2",
        "colab_type": "code",
        "colab": {}
      },
      "source": [
        "# обертка (реализация быстрого хождения) \n",
        "class BatchWrapper:\n",
        "    def __init__(self, dl, x_var, y_var):\n",
        "        self.dl = dl\n",
        "        self.x_var = x_var\n",
        "        self.y_var = y_var\n",
        "    \n",
        "    def __iter__(self):\n",
        "        for batch in self.dl:\n",
        "            x = getattr(batch, self.x_var)\n",
        "            y = getattr(batch, self.y_var)\n",
        "            yield (x, y)\n",
        "    \n",
        "    def __len__(self):\n",
        "        return len(self.dl)"
      ],
      "execution_count": 0,
      "outputs": []
    },
    {
      "cell_type": "code",
      "metadata": {
        "id": "9z_uXI2dltv3",
        "colab_type": "code",
        "colab": {}
      },
      "source": [
        "# обрабатывает данные, чобы они были для нас более удобными \n",
        "train_dl = BatchWrapper(train_iter, 'FULLNAME', 'NATION')\n",
        "val_dl = BatchWrapper(val_iter, 'FULLNAME', 'NATION')"
      ],
      "execution_count": 0,
      "outputs": []
    },
    {
      "cell_type": "code",
      "metadata": {
        "id": "72oGpiHrltv5",
        "colab_type": "code",
        "colab": {}
      },
      "source": [
        "# \n",
        "x, y = next(train_dl.__iter__())"
      ],
      "execution_count": 0,
      "outputs": []
    },
    {
      "cell_type": "code",
      "metadata": {
        "id": "3ZADjzF0ltv6",
        "colab_type": "code",
        "outputId": "c85616c9-9455-4820-e46c-744a90ad138b",
        "colab": {
          "base_uri": "https://localhost:8080/",
          "height": 35
        }
      },
      "source": [
        "x.shape"
      ],
      "execution_count": 55,
      "outputs": [
        {
          "output_type": "execute_result",
          "data": {
            "text/plain": [
              "torch.Size([39, 512])"
            ]
          },
          "metadata": {
            "tags": []
          },
          "execution_count": 55
        }
      ]
    },
    {
      "cell_type": "code",
      "metadata": {
        "id": "pWm1MLJWltv8",
        "colab_type": "code",
        "outputId": "c0dbd8b8-cae5-41b7-8fe1-96c00a99311b",
        "colab": {
          "base_uri": "https://localhost:8080/",
          "height": 35
        }
      },
      "source": [
        "y.shape"
      ],
      "execution_count": 56,
      "outputs": [
        {
          "output_type": "execute_result",
          "data": {
            "text/plain": [
              "torch.Size([512])"
            ]
          },
          "metadata": {
            "tags": []
          },
          "execution_count": 56
        }
      ]
    },
    {
      "cell_type": "code",
      "metadata": {
        "id": "rhFACLlLltv9",
        "colab_type": "code",
        "outputId": "bb5baaa5-2d61-4b2b-ee66-65cfd4c7196b",
        "colab": {
          "base_uri": "https://localhost:8080/",
          "height": 69
        }
      },
      "source": [
        "# транпонировали тензор, в которой закодировано ФИО \n",
        "x.transpose(1, 0)[0]"
      ],
      "execution_count": 57,
      "outputs": [
        {
          "output_type": "execute_result",
          "data": {
            "text/plain": [
              "tensor([15, 11, 28, 22,  9, 14, 11, 14,  2,  4,  7,  3, 14,  2, 18, 11, 29, 11,\n",
              "        14,  9,  7,  4, 23, 15,  1,  1,  1,  1,  1,  1,  1,  1,  1,  1,  1,  1,\n",
              "         1,  1,  1], device='cuda:0')"
            ]
          },
          "metadata": {
            "tags": []
          },
          "execution_count": 57
        }
      ]
    },
    {
      "cell_type": "code",
      "metadata": {
        "id": "gZOreL1mltv-",
        "colab_type": "code",
        "colab": {}
      },
      "source": [
        "# новый класс, берем максимальное значение, чтобы уеньшить размер тензора \n",
        "class GlobalMaxPooling(nn.Module):\n",
        "    def __init__(self, dim=-1):\n",
        "        super(self.__class__, self).__init__()\n",
        "        self.dim = dim\n",
        "        \n",
        "    def forward(self, x):\n",
        "        return x.max(dim=self.dim)[0]"
      ],
      "execution_count": 0,
      "outputs": []
    },
    {
      "cell_type": "code",
      "metadata": {
        "id": "s4l1pM7altv_",
        "colab_type": "code",
        "colab": {}
      },
      "source": [
        "# задали слои \n",
        "class SimpleBiLSTM(nn.Module):\n",
        "    def __init__(self, inp_dim, hidden_dim=700, emb_dim=300, output_dim=188):\n",
        "        super().__init__()\n",
        "        self.embedding = nn.Embedding(inp_dim, emb_dim)\n",
        "        self.lstm = nn.LSTM(emb_dim, hidden_dim, num_layers=1, bidirectional=True)\n",
        "        self.pool = GlobalMaxPooling(dim=0) \n",
        "        self.dropout = nn.Dropout(0.25, inplace=True)\n",
        "        self.linear = nn.Linear(2 * hidden_dim, hidden_dim)\n",
        "        self.relu = nn.ReLU(inplace=True)\n",
        "        self.predictor = nn.Linear(hidden_dim, output_dim)\n",
        "# задали проход вперед (как он будет обрабаывать данные)\n",
        "    def forward(self, seq):\n",
        "        # [seq_length, batch_size]\n",
        "        x = self.embedding(seq) # [seq_length, batch_size, emb_dim]\n",
        "        x, _ = self.lstm(self.embedding(seq)) # [seq_length, batch_size, num_dir * hid_size]\n",
        "        x = self.pool(x) # [batch_size, num_dir * hid_size]\n",
        "        x = self.dropout(x) # [batch_size, num_dir * hid_size]\n",
        "        x = self.linear(x) # [batch_size, hid_size]\n",
        "        x = self.relu(x) # [batch_size, hid_size]\n",
        "        preds = self.predictor(x) # [batch_size, output_size]\n",
        "        return preds"
      ],
      "execution_count": 0,
      "outputs": []
    },
    {
      "cell_type": "code",
      "metadata": {
        "id": "whM2dXH8ltwA",
        "colab_type": "code",
        "outputId": "f206ad3e-efce-4219-ea89-34fd9fbe903c",
        "colab": {
          "base_uri": "https://localhost:8080/",
          "height": 173
        }
      },
      "source": [
        "\n",
        "model = SimpleBiLSTM(inp_dim=len(TEXT.vocab))\n",
        "model.cuda()"
      ],
      "execution_count": 60,
      "outputs": [
        {
          "output_type": "execute_result",
          "data": {
            "text/plain": [
              "SimpleBiLSTM(\n",
              "  (embedding): Embedding(82, 300)\n",
              "  (lstm): LSTM(300, 700, bidirectional=True)\n",
              "  (pool): GlobalMaxPooling()\n",
              "  (dropout): Dropout(p=0.25, inplace=True)\n",
              "  (linear): Linear(in_features=1400, out_features=700, bias=True)\n",
              "  (relu): ReLU(inplace=True)\n",
              "  (predictor): Linear(in_features=700, out_features=188, bias=True)\n",
              ")"
            ]
          },
          "metadata": {
            "tags": []
          },
          "execution_count": 60
        }
      ]
    },
    {
      "cell_type": "code",
      "metadata": {
        "id": "uVKTNKRaltwC",
        "colab_type": "code",
        "colab": {}
      },
      "source": [
        "# задали шаг, функцию потерь \n",
        "opt = optim.Adam(model.parameters(), lr=1e-3)\n",
        "loss_func = nn.CrossEntropyLoss()\n",
        "num_epochs = 200"
      ],
      "execution_count": 0,
      "outputs": []
    },
    {
      "cell_type": "code",
      "metadata": {
        "id": "R6-k-NF9ltwD",
        "colab_type": "code",
        "outputId": "a41311ee-052e-4192-fd44-f7e18e5f6647",
        "colab": {
          "base_uri": "https://localhost:8080/",
          "height": 49,
          "referenced_widgets": [
            "ff458d2d3ab94434b4804ab0113369e0",
            "aacf01f436414841af11ebf25beff598",
            "9949c31c0069489d977972c3a29799b7",
            "db9ad70cadfc4deb8c2fce0203c91ce3",
            "f4c020ec551c4900a10ca6b6c593032b",
            "83aad6cba4d647c3b84ac89edd1af4a7",
            "8b10b41f384f41e09388ef0dbfec1526",
            "16c1e0d1a12c41b38767ec4c47b9c375"
          ]
        }
      },
      "source": [
        "# непосредственно само обучение \n",
        "train_loss = []\n",
        "val_f1 = []\n",
        "best_f1 = 0\n",
        "iter_without_rise = 0\n",
        "\n",
        "for epoch in range(num_epochs):\n",
        "    start_time = time.time()\n",
        "    model.train()\n",
        "    for x, y in tqdm_notebook(train_dl):\n",
        "        preds = model(x)\n",
        "        loss = loss_func(preds, y)\n",
        "        loss.backward()\n",
        "        opt.step()\n",
        "        opt.zero_grad()\n",
        "        train_loss.append(loss.cpu().data.numpy())\n",
        "        \n",
        "    model.eval()\n",
        "    for x, y in tqdm_notebook(val_dl):\n",
        "        preds = model(x).max(1)[1].data\n",
        "        val_f1.append(f1_score(y.data.cpu().numpy(), preds.data.cpu().numpy(), average='macro'))\n",
        "        \n",
        "    curr_f1 = np.mean(val_f1[-len(val_dl):]) * 100\n",
        "\n",
        "    print(\"Epoch {} of {} took {:.3f}s\".format(epoch + 1, num_epochs, time.time() - start_time))\n",
        "    print(\"training loss (in-iteration): \\t{:.6f}\".format(np.mean(train_loss[-len(train_dl):])))\n",
        "    print(\"validation f-score: \\t\\t\\t{:.2f} %\".format(np.mean(val_f1[-len(val_dl):]) * 100))\n",
        "    if curr_f1 > best_f1: \n",
        "        best_f1 = curr_f1 \n",
        "        torch.save(model.state_dict(), '/content/drive/My Drive/Shift/best_model.pt')\n",
        "        iter_without_rise = 0 \n",
        "    else:\n",
        "        iter_without_rise +=1 \n",
        "    if iter_without_rise >= 10:\n",
        "        break"
      ],
      "execution_count": 0,
      "outputs": [
        {
          "output_type": "display_data",
          "data": {
            "application/vnd.jupyter.widget-view+json": {
              "model_id": "ff458d2d3ab94434b4804ab0113369e0",
              "version_minor": 0,
              "version_major": 2
            },
            "text/plain": [
              "HBox(children=(IntProgress(value=0, max=1621), HTML(value='')))"
            ]
          },
          "metadata": {
            "tags": []
          }
        }
      ]
    },
    {
      "cell_type": "code",
      "metadata": {
        "id": "3PqWgOayeBN0",
        "colab_type": "code",
        "colab": {}
      },
      "source": [
        ""
      ],
      "execution_count": 0,
      "outputs": []
    },
    {
      "cell_type": "code",
      "metadata": {
        "id": "dXHD04ofltwF",
        "colab_type": "code",
        "outputId": "2b0639f5-bb8d-411e-a38e-4538c0b3c6a3",
        "colab": {
          "base_uri": "https://localhost:8080/",
          "height": 173
        }
      },
      "source": [
        "model.load_state_dict(torch.load('/content/drive/My Drive/Shift/best_model.pt'))\n",
        "model.eval()"
      ],
      "execution_count": 52,
      "outputs": [
        {
          "output_type": "execute_result",
          "data": {
            "text/plain": [
              "SimpleBiLSTM(\n",
              "  (embedding): Embedding(82, 300)\n",
              "  (lstm): LSTM(300, 700, bidirectional=True)\n",
              "  (pool): GlobalMaxPooling()\n",
              "  (dropout): Dropout(p=0.25, inplace=True)\n",
              "  (linear): Linear(in_features=1400, out_features=700, bias=True)\n",
              "  (relu): ReLU(inplace=True)\n",
              "  (predictor): Linear(in_features=700, out_features=188, bias=True)\n",
              ")"
            ]
          },
          "metadata": {
            "tags": []
          },
          "execution_count": 52
        }
      ]
    },
    {
      "cell_type": "code",
      "metadata": {
        "id": "jTE0MUM1ltwH",
        "colab_type": "code",
        "colab": {}
      },
      "source": [
        "with open('/content/drive/My Drive/Shift/label_enc.pkl', 'rb') as f:\n",
        "    encoder = pickle.load(f)"
      ],
      "execution_count": 0,
      "outputs": []
    },
    {
      "cell_type": "code",
      "metadata": {
        "id": "8_x8KPFzxPSi",
        "colab_type": "code",
        "colab": {}
      },
      "source": [
        "def predict(name, model=model):\n",
        "  name = name.replace(' ', '#').replace('', ' ').lower()[1: -1]\n",
        "  name = [TEXT.tokenize(name)]\n",
        "  inp = TEXT.numericalize(TEXT.pad(name)).cuda()\n",
        "  preds = model(inp)\n",
        "  pred = preds.max(1)[1].data\n",
        "  return encoder.inverse_transform(pred.data.cpu().numpy())[0]"
      ],
      "execution_count": 0,
      "outputs": []
    },
    {
      "cell_type": "code",
      "metadata": {
        "id": "laPZviii2XiZ",
        "colab_type": "code",
        "outputId": "0da9728b-ccd9-4aa4-94ce-b30378d2632e",
        "colab": {
          "base_uri": "https://localhost:8080/",
          "height": 35
        }
      },
      "source": [
        "predict('Деревянченко Степан Олегович')"
      ],
      "execution_count": 55,
      "outputs": [
        {
          "output_type": "execute_result",
          "data": {
            "text/plain": [
              "'РУССКИЙ'"
            ]
          },
          "metadata": {
            "tags": []
          },
          "execution_count": 55
        }
      ]
    },
    {
      "cell_type": "code",
      "metadata": {
        "id": "rxh1azZWltwI",
        "colab_type": "code",
        "colab": {}
      },
      "source": [
        "test = TabularDataset(path='/content/drive/My Drive/Shift/comp_test.csv',\n",
        "                      format='csv',\n",
        "                      skip_header=True,\n",
        "                      fields=[('FULLNAME', TEXT)])"
      ],
      "execution_count": 0,
      "outputs": []
    },
    {
      "cell_type": "code",
      "metadata": {
        "id": "uBbNGdPo4KbS",
        "colab_type": "code",
        "colab": {}
      },
      "source": [
        "test_iter = Iterator(test,\n",
        "                     batch_size=1024,\n",
        "                     sort=False,\n",
        "                     shuffle=False,\n",
        "                     device=device,\n",
        "                     train=False,\n",
        "                     repeat=False)"
      ],
      "execution_count": 0,
      "outputs": []
    },
    {
      "cell_type": "code",
      "metadata": {
        "id": "Z6I3wco05d8x",
        "colab_type": "code",
        "colab": {}
      },
      "source": [
        "x = next(test_iter.__iter__())"
      ],
      "execution_count": 0,
      "outputs": []
    },
    {
      "cell_type": "code",
      "metadata": {
        "id": "eP81-omE5q0D",
        "colab_type": "code",
        "outputId": "339d307d-a75b-4c19-9439-18e059fe0dc1",
        "colab": {
          "base_uri": "https://localhost:8080/",
          "height": 139
        }
      },
      "source": [
        "x.FULLNAME"
      ],
      "execution_count": 62,
      "outputs": [
        {
          "output_type": "execute_result",
          "data": {
            "text/plain": [
              "tensor([[19, 42, 41,  ..., 28, 25,  3],\n",
              "        [33,  3, 12,  ...,  3, 37, 31],\n",
              "        [22, 16, 17,  ..., 29, 32,  4],\n",
              "        ...,\n",
              "        [ 1,  1,  1,  ...,  1,  1,  1],\n",
              "        [ 1,  1,  1,  ...,  1,  1,  1],\n",
              "        [ 1,  1,  1,  ...,  1,  1,  1]], device='cuda:0')"
            ]
          },
          "metadata": {
            "tags": []
          },
          "execution_count": 62
        }
      ]
    },
    {
      "cell_type": "code",
      "metadata": {
        "id": "RsMB91kz4wVe",
        "colab_type": "code",
        "colab": {}
      },
      "source": [
        "def get_predict():\n",
        "  predicts = list()\n",
        "  for x in test_iter:\n",
        "     x = x.FULLNAME\n",
        "     preds = model(x).max(1)[1].data\n",
        "     predicts.extend(list(preds.data.cpu().numpy()))\n",
        "  return predicts"
      ],
      "execution_count": 0,
      "outputs": []
    },
    {
      "cell_type": "code",
      "metadata": {
        "id": "eOWFv5Uhynh7",
        "colab_type": "code",
        "colab": {}
      },
      "source": [
        "predict = get_predict()"
      ],
      "execution_count": 0,
      "outputs": []
    },
    {
      "cell_type": "code",
      "metadata": {
        "id": "RZGXOwPV7Cit",
        "colab_type": "code",
        "colab": {}
      },
      "source": [
        "test = pd.read_csv('/content/drive/My Drive/Shift/data_test.csv')"
      ],
      "execution_count": 0,
      "outputs": []
    },
    {
      "cell_type": "code",
      "metadata": {
        "id": "lNnZYJEB6Y-g",
        "colab_type": "code",
        "colab": {}
      },
      "source": [
        "test['NATION'] = encoder.inverse_transform(predict)"
      ],
      "execution_count": 0,
      "outputs": []
    },
    {
      "cell_type": "code",
      "metadata": {
        "id": "3HMgmwo07cDy",
        "colab_type": "code",
        "outputId": "1b1db4bd-439d-4a50-91d5-d45382a3f305",
        "colab": {
          "base_uri": "https://localhost:8080/",
          "height": 662
        }
      },
      "source": [
        "test.head(20)"
      ],
      "execution_count": 67,
      "outputs": [
        {
          "output_type": "execute_result",
          "data": {
            "text/html": [
              "<div>\n",
              "<style scoped>\n",
              "    .dataframe tbody tr th:only-of-type {\n",
              "        vertical-align: middle;\n",
              "    }\n",
              "\n",
              "    .dataframe tbody tr th {\n",
              "        vertical-align: top;\n",
              "    }\n",
              "\n",
              "    .dataframe thead th {\n",
              "        text-align: right;\n",
              "    }\n",
              "</style>\n",
              "<table border=\"1\" class=\"dataframe\">\n",
              "  <thead>\n",
              "    <tr style=\"text-align: right;\">\n",
              "      <th></th>\n",
              "      <th>FULLNAME</th>\n",
              "      <th>NATION</th>\n",
              "    </tr>\n",
              "  </thead>\n",
              "  <tbody>\n",
              "    <tr>\n",
              "      <th>0</th>\n",
              "      <td>LUK'JANOVA IRINA IGNAT'EVNA</td>\n",
              "      <td>РУССКИЙ</td>\n",
              "    </tr>\n",
              "    <tr>\n",
              "      <th>1</th>\n",
              "      <td>BARMIN MIHAIL ALEKSEEVICH</td>\n",
              "      <td>РУССКИЙ</td>\n",
              "    </tr>\n",
              "    <tr>\n",
              "      <th>2</th>\n",
              "      <td>БЕРДОВСКИЙ АНТОН ИВАНОВИЧ</td>\n",
              "      <td>ПОЛЯК</td>\n",
              "    </tr>\n",
              "    <tr>\n",
              "      <th>3</th>\n",
              "      <td>BARABASH SERGEJ IVANOVICH</td>\n",
              "      <td>РУССКИЙ</td>\n",
              "    </tr>\n",
              "    <tr>\n",
              "      <th>4</th>\n",
              "      <td>ЗУДЕРМАН ЯКОВ ЯКОВЛЕВИЧ</td>\n",
              "      <td>НЕМЕЦ</td>\n",
              "    </tr>\n",
              "    <tr>\n",
              "      <th>5</th>\n",
              "      <td>СВИНЦОВА АННА НИКОЛАЕВНА</td>\n",
              "      <td>РУССКИЙ</td>\n",
              "    </tr>\n",
              "    <tr>\n",
              "      <th>6</th>\n",
              "      <td>BARANOVSKAJA MARIJA JUZEFOVNA</td>\n",
              "      <td>ПОЛЯК</td>\n",
              "    </tr>\n",
              "    <tr>\n",
              "      <th>7</th>\n",
              "      <td>МАТВЕЕВ АЛЕКСЕЙ ВАСИЛЬЕВИЧ</td>\n",
              "      <td>РУССКИЙ</td>\n",
              "    </tr>\n",
              "    <tr>\n",
              "      <th>8</th>\n",
              "      <td>GRISHIN FEDOR FILIPPOVICH</td>\n",
              "      <td>РУССКИЙ</td>\n",
              "    </tr>\n",
              "    <tr>\n",
              "      <th>9</th>\n",
              "      <td>JABLONSKAJA MARTSELINA IOSIFOVNA</td>\n",
              "      <td>ПОЛЯК</td>\n",
              "    </tr>\n",
              "    <tr>\n",
              "      <th>10</th>\n",
              "      <td>СИНЕЦКИИ НИКОЛАЙ ИВАНОВИЧ</td>\n",
              "      <td>РУССКИЙ</td>\n",
              "    </tr>\n",
              "    <tr>\n",
              "      <th>11</th>\n",
              "      <td>ШАДСКИХ ФЕДОР ТИМОФЕЕВИЧ</td>\n",
              "      <td>РУССКИЙ</td>\n",
              "    </tr>\n",
              "    <tr>\n",
              "      <th>12</th>\n",
              "      <td>СЕРГЕЕВ КОНСТАНТИН МИХАЙЛОВИЧ</td>\n",
              "      <td>РУССКИЙ</td>\n",
              "    </tr>\n",
              "    <tr>\n",
              "      <th>13</th>\n",
              "      <td>LUKSIK LJUDVIGA MIHAJLOVNA</td>\n",
              "      <td>ПОЛЯК</td>\n",
              "    </tr>\n",
              "    <tr>\n",
              "      <th>14</th>\n",
              "      <td>ПЛАВСКИЙ СТЕПАН ФАЗИЯНОВИЧ</td>\n",
              "      <td>БЕЛОРУС</td>\n",
              "    </tr>\n",
              "    <tr>\n",
              "      <th>15</th>\n",
              "      <td>НИГОРОЖЕНКО КОНСТАНТИН ПАХОМОВИЧ</td>\n",
              "      <td>РУССКИЙ</td>\n",
              "    </tr>\n",
              "    <tr>\n",
              "      <th>16</th>\n",
              "      <td>APLJAKAEV KUTLUKALJAM</td>\n",
              "      <td>БАШКИР</td>\n",
              "    </tr>\n",
              "    <tr>\n",
              "      <th>17</th>\n",
              "      <td>ГАЗАЕВА МУЗЛИМАТ КАСИМОВНА</td>\n",
              "      <td>БАКЛАРЕЦ</td>\n",
              "    </tr>\n",
              "    <tr>\n",
              "      <th>18</th>\n",
              "      <td>МАХАРАДЗЕ ТАМАРА ИЛЛАРИОНОВНА</td>\n",
              "      <td>ГРУЗИН</td>\n",
              "    </tr>\n",
              "    <tr>\n",
              "      <th>19</th>\n",
              "      <td>KELA LAVISA GENRIKOVNA</td>\n",
              "      <td>ФИНН</td>\n",
              "    </tr>\n",
              "  </tbody>\n",
              "</table>\n",
              "</div>"
            ],
            "text/plain": [
              "                            FULLNAME    NATION\n",
              "0   LUK'JANOVA IRINA IGNAT'EVNA       РУССКИЙ \n",
              "1   BARMIN MIHAIL ALEKSEEVICH         РУССКИЙ \n",
              "2   БЕРДОВСКИЙ АНТОН ИВАНОВИЧ         ПОЛЯК   \n",
              "3   BARABASH SERGEJ IVANOVICH         РУССКИЙ \n",
              "4   ЗУДЕРМАН ЯКОВ ЯКОВЛЕВИЧ           НЕМЕЦ   \n",
              "5   СВИНЦОВА АННА НИКОЛАЕВНА          РУССКИЙ \n",
              "6   BARANOVSKAJA MARIJA JUZEFOVNA     ПОЛЯК   \n",
              "7   МАТВЕЕВ АЛЕКСЕЙ ВАСИЛЬЕВИЧ        РУССКИЙ \n",
              "8   GRISHIN FEDOR FILIPPOVICH         РУССКИЙ \n",
              "9   JABLONSKAJA MARTSELINA IOSIFOVNA  ПОЛЯК   \n",
              "10  СИНЕЦКИИ НИКОЛАЙ ИВАНОВИЧ         РУССКИЙ \n",
              "11  ШАДСКИХ ФЕДОР ТИМОФЕЕВИЧ          РУССКИЙ \n",
              "12  СЕРГЕЕВ КОНСТАНТИН МИХАЙЛОВИЧ     РУССКИЙ \n",
              "13  LUKSIK LJUDVIGA MIHAJLOVNA        ПОЛЯК   \n",
              "14  ПЛАВСКИЙ СТЕПАН ФАЗИЯНОВИЧ        БЕЛОРУС \n",
              "15  НИГОРОЖЕНКО КОНСТАНТИН ПАХОМОВИЧ  РУССКИЙ \n",
              "16  APLJAKAEV KUTLUKALJAM             БАШКИР  \n",
              "17  ГАЗАЕВА МУЗЛИМАТ КАСИМОВНА        БАКЛАРЕЦ\n",
              "18  МАХАРАДЗЕ ТАМАРА ИЛЛАРИОНОВНА     ГРУЗИН  \n",
              "19  KELA LAVISA GENRIKOVNA            ФИНН    "
            ]
          },
          "metadata": {
            "tags": []
          },
          "execution_count": 67
        }
      ]
    },
    {
      "cell_type": "code",
      "metadata": {
        "id": "lmXfr9i37R8D",
        "colab_type": "code",
        "colab": {}
      },
      "source": [
        "test.to_csv('/content/drive/My Drive/Shift/submission.csv')"
      ],
      "execution_count": 0,
      "outputs": []
    },
    {
      "cell_type": "code",
      "metadata": {
        "id": "NZ8-ccBS7rkO",
        "colab_type": "code",
        "colab": {}
      },
      "source": [
        ""
      ],
      "execution_count": 0,
      "outputs": []
    }
  ]
}