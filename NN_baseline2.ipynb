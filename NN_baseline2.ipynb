{
  "nbformat": 4,
  "nbformat_minor": 0,
  "metadata": {
    "kernelspec": {
      "name": "python3",
      "display_name": "Python 3"
    },
    "language_info": {
      "codemirror_mode": {
        "name": "ipython",
        "version": 3
      },
      "file_extension": ".py",
      "mimetype": "text/x-python",
      "name": "python",
      "nbconvert_exporter": "python",
      "pygments_lexer": "ipython3",
      "version": "3.7.4"
    },
    "colab": {
      "name": "NN_baseline2.ipynb",
      "provenance": [],
      "collapsed_sections": [],
      "include_colab_link": true
    },
    "accelerator": "GPU",
    "widgets": {
      "application/vnd.jupyter.widget-state+json": {
        "81c8b39efc8f428ca90bfed1ea820dcd": {
          "model_module": "@jupyter-widgets/controls",
          "model_name": "HBoxModel",
          "state": {
            "_view_name": "HBoxView",
            "_dom_classes": [],
            "_model_name": "HBoxModel",
            "_view_module": "@jupyter-widgets/controls",
            "_model_module_version": "1.5.0",
            "_view_count": null,
            "_view_module_version": "1.5.0",
            "box_style": "",
            "layout": "IPY_MODEL_fee7e727f40f41f4989d6221f00baffa",
            "_model_module": "@jupyter-widgets/controls",
            "children": [
              "IPY_MODEL_cbe80293202b438a8e7695fc42f0f0b5",
              "IPY_MODEL_64568ea373a3466cbb354e7a6b577490"
            ]
          }
        },
        "fee7e727f40f41f4989d6221f00baffa": {
          "model_module": "@jupyter-widgets/base",
          "model_name": "LayoutModel",
          "state": {
            "_view_name": "LayoutView",
            "grid_template_rows": null,
            "right": null,
            "justify_content": null,
            "_view_module": "@jupyter-widgets/base",
            "overflow": null,
            "_model_module_version": "1.2.0",
            "_view_count": null,
            "flex_flow": null,
            "width": null,
            "min_width": null,
            "border": null,
            "align_items": null,
            "bottom": null,
            "_model_module": "@jupyter-widgets/base",
            "top": null,
            "grid_column": null,
            "overflow_y": null,
            "overflow_x": null,
            "grid_auto_flow": null,
            "grid_area": null,
            "grid_template_columns": null,
            "flex": null,
            "_model_name": "LayoutModel",
            "justify_items": null,
            "grid_row": null,
            "max_height": null,
            "align_content": null,
            "visibility": null,
            "align_self": null,
            "height": null,
            "min_height": null,
            "padding": null,
            "grid_auto_rows": null,
            "grid_gap": null,
            "max_width": null,
            "order": null,
            "_view_module_version": "1.2.0",
            "grid_template_areas": null,
            "object_position": null,
            "object_fit": null,
            "grid_auto_columns": null,
            "margin": null,
            "display": null,
            "left": null
          }
        },
        "cbe80293202b438a8e7695fc42f0f0b5": {
          "model_module": "@jupyter-widgets/controls",
          "model_name": "IntProgressModel",
          "state": {
            "_view_name": "ProgressView",
            "style": "IPY_MODEL_d2ceec0dfa5648cd9f8155d027fb19a9",
            "_dom_classes": [],
            "description": "",
            "_model_name": "IntProgressModel",
            "bar_style": "danger",
            "max": 3241,
            "_view_module": "@jupyter-widgets/controls",
            "_model_module_version": "1.5.0",
            "value": 124,
            "_view_count": null,
            "_view_module_version": "1.5.0",
            "orientation": "horizontal",
            "min": 0,
            "description_tooltip": null,
            "_model_module": "@jupyter-widgets/controls",
            "layout": "IPY_MODEL_493a963a3364428db4b7f1c5442c19a5"
          }
        },
        "64568ea373a3466cbb354e7a6b577490": {
          "model_module": "@jupyter-widgets/controls",
          "model_name": "HTMLModel",
          "state": {
            "_view_name": "HTMLView",
            "style": "IPY_MODEL_6051b6a079e349a1b74c314570c037ef",
            "_dom_classes": [],
            "description": "",
            "_model_name": "HTMLModel",
            "placeholder": "​",
            "_view_module": "@jupyter-widgets/controls",
            "_model_module_version": "1.5.0",
            "value": "  4% 124/3241 [00:14&lt;05:24,  9.62it/s]",
            "_view_count": null,
            "_view_module_version": "1.5.0",
            "description_tooltip": null,
            "_model_module": "@jupyter-widgets/controls",
            "layout": "IPY_MODEL_2eab7891e79b4ef898d8227d1236854c"
          }
        },
        "d2ceec0dfa5648cd9f8155d027fb19a9": {
          "model_module": "@jupyter-widgets/controls",
          "model_name": "ProgressStyleModel",
          "state": {
            "_view_name": "StyleView",
            "_model_name": "ProgressStyleModel",
            "description_width": "",
            "_view_module": "@jupyter-widgets/base",
            "_model_module_version": "1.5.0",
            "_view_count": null,
            "_view_module_version": "1.2.0",
            "bar_color": null,
            "_model_module": "@jupyter-widgets/controls"
          }
        },
        "493a963a3364428db4b7f1c5442c19a5": {
          "model_module": "@jupyter-widgets/base",
          "model_name": "LayoutModel",
          "state": {
            "_view_name": "LayoutView",
            "grid_template_rows": null,
            "right": null,
            "justify_content": null,
            "_view_module": "@jupyter-widgets/base",
            "overflow": null,
            "_model_module_version": "1.2.0",
            "_view_count": null,
            "flex_flow": null,
            "width": null,
            "min_width": null,
            "border": null,
            "align_items": null,
            "bottom": null,
            "_model_module": "@jupyter-widgets/base",
            "top": null,
            "grid_column": null,
            "overflow_y": null,
            "overflow_x": null,
            "grid_auto_flow": null,
            "grid_area": null,
            "grid_template_columns": null,
            "flex": null,
            "_model_name": "LayoutModel",
            "justify_items": null,
            "grid_row": null,
            "max_height": null,
            "align_content": null,
            "visibility": null,
            "align_self": null,
            "height": null,
            "min_height": null,
            "padding": null,
            "grid_auto_rows": null,
            "grid_gap": null,
            "max_width": null,
            "order": null,
            "_view_module_version": "1.2.0",
            "grid_template_areas": null,
            "object_position": null,
            "object_fit": null,
            "grid_auto_columns": null,
            "margin": null,
            "display": null,
            "left": null
          }
        },
        "6051b6a079e349a1b74c314570c037ef": {
          "model_module": "@jupyter-widgets/controls",
          "model_name": "DescriptionStyleModel",
          "state": {
            "_view_name": "StyleView",
            "_model_name": "DescriptionStyleModel",
            "description_width": "",
            "_view_module": "@jupyter-widgets/base",
            "_model_module_version": "1.5.0",
            "_view_count": null,
            "_view_module_version": "1.2.0",
            "_model_module": "@jupyter-widgets/controls"
          }
        },
        "2eab7891e79b4ef898d8227d1236854c": {
          "model_module": "@jupyter-widgets/base",
          "model_name": "LayoutModel",
          "state": {
            "_view_name": "LayoutView",
            "grid_template_rows": null,
            "right": null,
            "justify_content": null,
            "_view_module": "@jupyter-widgets/base",
            "overflow": null,
            "_model_module_version": "1.2.0",
            "_view_count": null,
            "flex_flow": null,
            "width": null,
            "min_width": null,
            "border": null,
            "align_items": null,
            "bottom": null,
            "_model_module": "@jupyter-widgets/base",
            "top": null,
            "grid_column": null,
            "overflow_y": null,
            "overflow_x": null,
            "grid_auto_flow": null,
            "grid_area": null,
            "grid_template_columns": null,
            "flex": null,
            "_model_name": "LayoutModel",
            "justify_items": null,
            "grid_row": null,
            "max_height": null,
            "align_content": null,
            "visibility": null,
            "align_self": null,
            "height": null,
            "min_height": null,
            "padding": null,
            "grid_auto_rows": null,
            "grid_gap": null,
            "max_width": null,
            "order": null,
            "_view_module_version": "1.2.0",
            "grid_template_areas": null,
            "object_position": null,
            "object_fit": null,
            "grid_auto_columns": null,
            "margin": null,
            "display": null,
            "left": null
          }
        }
      }
    }
  },
  "cells": [
    {
      "cell_type": "markdown",
      "metadata": {
        "id": "view-in-github",
        "colab_type": "text"
      },
      "source": [
        "<a href=\"https://colab.research.google.com/github/SeleznevaAlexandra/Pandas-Cookbook/blob/master/NN_baseline2.ipynb\" target=\"_parent\"><img src=\"https://colab.research.google.com/assets/colab-badge.svg\" alt=\"Open In Colab\"/></a>"
      ]
    },
    {
      "cell_type": "code",
      "metadata": {
        "id": "KcIts_nWltvA",
        "colab_type": "code",
        "colab": {}
      },
      "source": [
        "import time\n",
        "import torch\n",
        "import pickle\n",
        "import warnings\n",
        "import numpy as np\n",
        "import pandas as pd\n",
        "import torch.nn as nn\n",
        "import torch.optim as optim\n",
        "from sklearn.metrics import f1_score\n",
        "from tqdm import tqdm_notebook\n",
        "from sklearn.preprocessing import LabelEncoder\n",
        "from sklearn.model_selection import train_test_split\n",
        "from torchtext.data import Field, BucketIterator, TabularDataset, Iterator\n",
        "from sklearn.feature_extraction.text import CountVectorizer\n",
        "from sklearn.linear_model import LogisticRegression"
      ],
      "execution_count": 0,
      "outputs": []
    },
    {
      "cell_type": "code",
      "metadata": {
        "id": "ql-uEc7tmAT2",
        "colab_type": "code",
        "outputId": "a4e54f95-ec62-4246-e04d-4f40ca38c9e1",
        "colab": {
          "base_uri": "https://localhost:8080/",
          "height": 124
        }
      },
      "source": [
        "from google.colab import drive\n",
        "drive.mount('/content/drive')"
      ],
      "execution_count": 0,
      "outputs": [
        {
          "output_type": "stream",
          "text": [
            "Go to this URL in a browser: https://accounts.google.com/o/oauth2/auth?client_id=947318989803-6bn6qk8qdgf4n4g3pfee6491hc0brc4i.apps.googleusercontent.com&redirect_uri=urn%3aietf%3awg%3aoauth%3a2.0%3aoob&response_type=code&scope=email%20https%3a%2f%2fwww.googleapis.com%2fauth%2fdocs.test%20https%3a%2f%2fwww.googleapis.com%2fauth%2fdrive%20https%3a%2f%2fwww.googleapis.com%2fauth%2fdrive.photos.readonly%20https%3a%2f%2fwww.googleapis.com%2fauth%2fpeopleapi.readonly\n",
            "\n",
            "Enter your authorization code:\n",
            "··········\n",
            "Mounted at /content/drive\n"
          ],
          "name": "stdout"
        }
      ]
    },
    {
      "cell_type": "code",
      "metadata": {
        "id": "uYwkFd7DltvF",
        "colab_type": "code",
        "colab": {}
      },
      "source": [
        "torch.manual_seed(0) \n",
        "torch.backends.cudnn.deterministic = True \n",
        "torch.backends.cudnn.benchmark = False \n",
        "np.random.seed(0)\n",
        "\n",
        "pd.set_option('display.max_colwidth', -1) \n",
        "pd.set_option(\"display.max_rows\", 1000)\n",
        "\n",
        "device = torch.device(\"cuda:0\")\n",
        "torch.cuda.set_device(0)\n",
        "\n",
        "warnings.filterwarnings('ignore')"
      ],
      "execution_count": 0,
      "outputs": []
    },
    {
      "cell_type": "markdown",
      "metadata": {
        "id": "LA460XHVltvJ",
        "colab_type": "text"
      },
      "source": [
        "# ____________________"
      ]
    },
    {
      "cell_type": "code",
      "metadata": {
        "id": "a5RaJNCXltvK",
        "colab_type": "code",
        "colab": {}
      },
      "source": [
        "data = pd.read_csv('/content/drive/My Drive/data2/data_train.csv')"
      ],
      "execution_count": 0,
      "outputs": []
    },
    {
      "cell_type": "code",
      "metadata": {
        "id": "IlAhchhx49C2",
        "colab_type": "code",
        "colab": {}
      },
      "source": [
        "data_test = pd.read_csv('/content/drive/My Drive/data2/data_test.csv')"
      ],
      "execution_count": 0,
      "outputs": []
    },
    {
      "cell_type": "code",
      "metadata": {
        "id": "eLveN2ANbIHP",
        "colab_type": "code",
        "outputId": "db63a59f-1bc0-4017-9d92-a26fe337208c",
        "colab": {
          "base_uri": "https://localhost:8080/",
          "height": 104
        }
      },
      "source": [
        "X_train = data.FULLNAME.values\n",
        "gender_train = data.GENDER.values\n",
        "vectorizer = CountVectorizer(analyzer='char', ngram_range=(3,3))\n",
        "X_train = vectorizer.fit_transform(X_train)\n",
        "gender_model = LogisticRegression()\n",
        "gender_model.fit(X_train, gender_train)"
      ],
      "execution_count": 0,
      "outputs": [
        {
          "output_type": "execute_result",
          "data": {
            "text/plain": [
              "LogisticRegression(C=1.0, class_weight=None, dual=False, fit_intercept=True,\n",
              "                   intercept_scaling=1, l1_ratio=None, max_iter=100,\n",
              "                   multi_class='auto', n_jobs=None, penalty='l2',\n",
              "                   random_state=None, solver='lbfgs', tol=0.0001, verbose=0,\n",
              "                   warm_start=False)"
            ]
          },
          "metadata": {
            "tags": []
          },
          "execution_count": 8
        }
      ]
    },
    {
      "cell_type": "code",
      "metadata": {
        "id": "RkN6jpPpcqBy",
        "colab_type": "code",
        "outputId": "4b5ce6ba-4000-47e5-e41e-39a7603b8c40",
        "colab": {
          "base_uri": "https://localhost:8080/",
          "height": 35
        }
      },
      "source": [
        "X = vectorizer.transform(['Павлюк Екатерина Владимировна'])\n",
        "gender_model.predict(X)[0]"
      ],
      "execution_count": 0,
      "outputs": [
        {
          "output_type": "execute_result",
          "data": {
            "text/plain": [
              "'ж'"
            ]
          },
          "metadata": {
            "tags": []
          },
          "execution_count": 9
        }
      ]
    },
    {
      "cell_type": "code",
      "metadata": {
        "id": "2LWG_JYyltvN",
        "colab_type": "code",
        "outputId": "65ef9fc4-934c-4208-c6e1-93d8e83abb7d",
        "colab": {
          "base_uri": "https://localhost:8080/",
          "height": 202
        }
      },
      "source": [
        "data.head()"
      ],
      "execution_count": 0,
      "outputs": [
        {
          "output_type": "execute_result",
          "data": {
            "text/html": [
              "<div>\n",
              "<style scoped>\n",
              "    .dataframe tbody tr th:only-of-type {\n",
              "        vertical-align: middle;\n",
              "    }\n",
              "\n",
              "    .dataframe tbody tr th {\n",
              "        vertical-align: top;\n",
              "    }\n",
              "\n",
              "    .dataframe thead th {\n",
              "        text-align: right;\n",
              "    }\n",
              "</style>\n",
              "<table border=\"1\" class=\"dataframe\">\n",
              "  <thead>\n",
              "    <tr style=\"text-align: right;\">\n",
              "      <th></th>\n",
              "      <th>FULLNAME</th>\n",
              "      <th>NATION</th>\n",
              "      <th>GENDER</th>\n",
              "    </tr>\n",
              "  </thead>\n",
              "  <tbody>\n",
              "    <tr>\n",
              "      <th>0</th>\n",
              "      <td>СТОПНИЦКИЙ БЕРЕК ГЕРШОВИЧ</td>\n",
              "      <td>ЕВРЕЙ</td>\n",
              "      <td>м</td>\n",
              "    </tr>\n",
              "    <tr>\n",
              "      <th>1</th>\n",
              "      <td>МИЛЛЕР МАРИЯ ЯКОВЛЕВНА</td>\n",
              "      <td>НЕМЕЦ</td>\n",
              "      <td>ж</td>\n",
              "    </tr>\n",
              "    <tr>\n",
              "      <th>2</th>\n",
              "      <td>FAIZOV FATTAH</td>\n",
              "      <td>ТАТАРИН</td>\n",
              "      <td>м</td>\n",
              "    </tr>\n",
              "    <tr>\n",
              "      <th>3</th>\n",
              "      <td>ЗАНИН МАКСИМ ЯКОВЛЕВИЧ</td>\n",
              "      <td>РУССКИЙ</td>\n",
              "      <td>м</td>\n",
              "    </tr>\n",
              "    <tr>\n",
              "      <th>4</th>\n",
              "      <td>МАЛЬЦЕВ ЯКОВ КОНДРАТЬЕВИЧ</td>\n",
              "      <td>РУССКИЙ</td>\n",
              "      <td>м</td>\n",
              "    </tr>\n",
              "  </tbody>\n",
              "</table>\n",
              "</div>"
            ],
            "text/plain": [
              "                    FULLNAME   NATION GENDER\n",
              "0  СТОПНИЦКИЙ БЕРЕК ГЕРШОВИЧ  ЕВРЕЙ    м    \n",
              "1  МИЛЛЕР МАРИЯ ЯКОВЛЕВНА     НЕМЕЦ    ж    \n",
              "2  FAIZOV FATTAH              ТАТАРИН  м    \n",
              "3  ЗАНИН МАКСИМ ЯКОВЛЕВИЧ     РУССКИЙ  м    \n",
              "4  МАЛЬЦЕВ ЯКОВ КОНДРАТЬЕВИЧ  РУССКИЙ  м    "
            ]
          },
          "metadata": {
            "tags": []
          },
          "execution_count": 10
        }
      ]
    },
    {
      "cell_type": "code",
      "metadata": {
        "id": "osSHjA2pltvS",
        "colab_type": "code",
        "colab": {}
      },
      "source": [
        "def split_fio(s):\n",
        "    return s.replace(' ', '#').replace('', ' ')[1:-1]"
      ],
      "execution_count": 0,
      "outputs": []
    },
    {
      "cell_type": "code",
      "metadata": {
        "id": "_MqDxQNCltvV",
        "colab_type": "code",
        "colab": {}
      },
      "source": [
        "data.FULLNAME = data.FULLNAME.apply(split_fio)"
      ],
      "execution_count": 0,
      "outputs": []
    },
    {
      "cell_type": "code",
      "metadata": {
        "id": "hcsAImOqltvY",
        "colab_type": "code",
        "outputId": "fec053af-f095-4817-a79a-f203c7b9a4c7",
        "colab": {
          "base_uri": "https://localhost:8080/",
          "height": 202
        }
      },
      "source": [
        "data.head()"
      ],
      "execution_count": 0,
      "outputs": [
        {
          "output_type": "execute_result",
          "data": {
            "text/html": [
              "<div>\n",
              "<style scoped>\n",
              "    .dataframe tbody tr th:only-of-type {\n",
              "        vertical-align: middle;\n",
              "    }\n",
              "\n",
              "    .dataframe tbody tr th {\n",
              "        vertical-align: top;\n",
              "    }\n",
              "\n",
              "    .dataframe thead th {\n",
              "        text-align: right;\n",
              "    }\n",
              "</style>\n",
              "<table border=\"1\" class=\"dataframe\">\n",
              "  <thead>\n",
              "    <tr style=\"text-align: right;\">\n",
              "      <th></th>\n",
              "      <th>FULLNAME</th>\n",
              "      <th>NATION</th>\n",
              "      <th>GENDER</th>\n",
              "    </tr>\n",
              "  </thead>\n",
              "  <tbody>\n",
              "    <tr>\n",
              "      <th>0</th>\n",
              "      <td>С Т О П Н И Ц К И Й # Б Е Р Е К # Г Е Р Ш О В И Ч</td>\n",
              "      <td>ЕВРЕЙ</td>\n",
              "      <td>м</td>\n",
              "    </tr>\n",
              "    <tr>\n",
              "      <th>1</th>\n",
              "      <td>М И Л Л Е Р # М А Р И Я # Я К О В Л Е В Н А</td>\n",
              "      <td>НЕМЕЦ</td>\n",
              "      <td>ж</td>\n",
              "    </tr>\n",
              "    <tr>\n",
              "      <th>2</th>\n",
              "      <td>F A I Z O V # F A T T A H #</td>\n",
              "      <td>ТАТАРИН</td>\n",
              "      <td>м</td>\n",
              "    </tr>\n",
              "    <tr>\n",
              "      <th>3</th>\n",
              "      <td>З А Н И Н # М А К С И М # Я К О В Л Е В И Ч</td>\n",
              "      <td>РУССКИЙ</td>\n",
              "      <td>м</td>\n",
              "    </tr>\n",
              "    <tr>\n",
              "      <th>4</th>\n",
              "      <td>М А Л Ь Ц Е В # Я К О В # К О Н Д Р А Т Ь Е В И Ч</td>\n",
              "      <td>РУССКИЙ</td>\n",
              "      <td>м</td>\n",
              "    </tr>\n",
              "  </tbody>\n",
              "</table>\n",
              "</div>"
            ],
            "text/plain": [
              "                                            FULLNAME   NATION GENDER\n",
              "0  С Т О П Н И Ц К И Й # Б Е Р Е К # Г Е Р Ш О В И Ч  ЕВРЕЙ    м    \n",
              "1  М И Л Л Е Р # М А Р И Я # Я К О В Л Е В Н А        НЕМЕЦ    ж    \n",
              "2  F A I Z O V # F A T T A H #                        ТАТАРИН  м    \n",
              "3  З А Н И Н # М А К С И М # Я К О В Л Е В И Ч        РУССКИЙ  м    \n",
              "4  М А Л Ь Ц Е В # Я К О В # К О Н Д Р А Т Ь Е В И Ч  РУССКИЙ  м    "
            ]
          },
          "metadata": {
            "tags": []
          },
          "execution_count": 13
        }
      ]
    },
    {
      "cell_type": "code",
      "metadata": {
        "id": "OMzMYvyPltva",
        "colab_type": "code",
        "colab": {}
      },
      "source": [
        "data = data[['FULLNAME', 'NATION']]"
      ],
      "execution_count": 0,
      "outputs": []
    },
    {
      "cell_type": "code",
      "metadata": {
        "id": "4EYMXbOXltvc",
        "colab_type": "code",
        "colab": {}
      },
      "source": [
        "encoder = LabelEncoder()\n",
        "data.NATION = encoder.fit_transform(data.NATION)"
      ],
      "execution_count": 0,
      "outputs": []
    },
    {
      "cell_type": "code",
      "metadata": {
        "id": "5kPHEfobltvf",
        "colab_type": "code",
        "outputId": "bba8d1bb-27e5-4758-a17a-99d66938a715",
        "colab": {
          "base_uri": "https://localhost:8080/",
          "height": 202
        }
      },
      "source": [
        "data.head()"
      ],
      "execution_count": 0,
      "outputs": [
        {
          "output_type": "execute_result",
          "data": {
            "text/html": [
              "<div>\n",
              "<style scoped>\n",
              "    .dataframe tbody tr th:only-of-type {\n",
              "        vertical-align: middle;\n",
              "    }\n",
              "\n",
              "    .dataframe tbody tr th {\n",
              "        vertical-align: top;\n",
              "    }\n",
              "\n",
              "    .dataframe thead th {\n",
              "        text-align: right;\n",
              "    }\n",
              "</style>\n",
              "<table border=\"1\" class=\"dataframe\">\n",
              "  <thead>\n",
              "    <tr style=\"text-align: right;\">\n",
              "      <th></th>\n",
              "      <th>FULLNAME</th>\n",
              "      <th>NATION</th>\n",
              "    </tr>\n",
              "  </thead>\n",
              "  <tbody>\n",
              "    <tr>\n",
              "      <th>0</th>\n",
              "      <td>С Т О П Н И Ц К И Й # Б Е Р Е К # Г Е Р Ш О В И Ч</td>\n",
              "      <td>50</td>\n",
              "    </tr>\n",
              "    <tr>\n",
              "      <th>1</th>\n",
              "      <td>М И Л Л Е Р # М А Р И Я # Я К О В Л Е В Н А</td>\n",
              "      <td>114</td>\n",
              "    </tr>\n",
              "    <tr>\n",
              "      <th>2</th>\n",
              "      <td>F A I Z O V # F A T T A H #</td>\n",
              "      <td>141</td>\n",
              "    </tr>\n",
              "    <tr>\n",
              "      <th>3</th>\n",
              "      <td>З А Н И Н # М А К С И М # Я К О В Л Е В И Ч</td>\n",
              "      <td>128</td>\n",
              "    </tr>\n",
              "    <tr>\n",
              "      <th>4</th>\n",
              "      <td>М А Л Ь Ц Е В # Я К О В # К О Н Д Р А Т Ь Е В И Ч</td>\n",
              "      <td>128</td>\n",
              "    </tr>\n",
              "  </tbody>\n",
              "</table>\n",
              "</div>"
            ],
            "text/plain": [
              "                                            FULLNAME  NATION\n",
              "0  С Т О П Н И Ц К И Й # Б Е Р Е К # Г Е Р Ш О В И Ч  50    \n",
              "1  М И Л Л Е Р # М А Р И Я # Я К О В Л Е В Н А        114   \n",
              "2  F A I Z O V # F A T T A H #                        141   \n",
              "3  З А Н И Н # М А К С И М # Я К О В Л Е В И Ч        128   \n",
              "4  М А Л Ь Ц Е В # Я К О В # К О Н Д Р А Т Ь Е В И Ч  128   "
            ]
          },
          "metadata": {
            "tags": []
          },
          "execution_count": 16
        }
      ]
    },
    {
      "cell_type": "code",
      "metadata": {
        "id": "w3fT6G5Bltvi",
        "colab_type": "code",
        "outputId": "e698a8fb-a699-4e7e-9ecf-c6bea3e23120",
        "colab": {
          "base_uri": "https://localhost:8080/",
          "height": 35
        }
      },
      "source": [
        "len(set(data.NATION))"
      ],
      "execution_count": 0,
      "outputs": [
        {
          "output_type": "execute_result",
          "data": {
            "text/plain": [
              "188"
            ]
          },
          "metadata": {
            "tags": []
          },
          "execution_count": 17
        }
      ]
    },
    {
      "cell_type": "code",
      "metadata": {
        "id": "0VaEyNvSltvk",
        "colab_type": "code",
        "colab": {}
      },
      "source": [
        "with open('/content/drive/My Drive/data2/label_enc.pkl', 'wb') as f:\n",
        "    pickle.dump(encoder, f)"
      ],
      "execution_count": 0,
      "outputs": []
    },
    {
      "cell_type": "code",
      "metadata": {
        "id": "6dFWi2yhltvm",
        "colab_type": "code",
        "colab": {}
      },
      "source": [
        "train, val = train_test_split(data, test_size=0.2, random_state=42)"
      ],
      "execution_count": 0,
      "outputs": []
    },
    {
      "cell_type": "code",
      "metadata": {
        "id": "pfKr0PI8ltvn",
        "colab_type": "code",
        "colab": {}
      },
      "source": [
        "train.to_csv('/content/drive/My Drive/data2/train.csv', index=None)\n",
        "val.to_csv('/content/drive/My Drive/data2/test.csv', index=None)"
      ],
      "execution_count": 0,
      "outputs": []
    },
    {
      "cell_type": "code",
      "metadata": {
        "id": "GxHaju185Eq5",
        "colab_type": "code",
        "colab": {}
      },
      "source": [
        "data_test.FULLNAME = data_test.FULLNAME.apply(split_fio)"
      ],
      "execution_count": 0,
      "outputs": []
    },
    {
      "cell_type": "code",
      "metadata": {
        "id": "2APEPq7D5Is0",
        "colab_type": "code",
        "outputId": "6796082a-021c-4006-857c-e8a9a4229c27",
        "colab": {
          "base_uri": "https://localhost:8080/",
          "height": 202
        }
      },
      "source": [
        "data_test.head()"
      ],
      "execution_count": 0,
      "outputs": [
        {
          "output_type": "execute_result",
          "data": {
            "text/html": [
              "<div>\n",
              "<style scoped>\n",
              "    .dataframe tbody tr th:only-of-type {\n",
              "        vertical-align: middle;\n",
              "    }\n",
              "\n",
              "    .dataframe tbody tr th {\n",
              "        vertical-align: top;\n",
              "    }\n",
              "\n",
              "    .dataframe thead th {\n",
              "        text-align: right;\n",
              "    }\n",
              "</style>\n",
              "<table border=\"1\" class=\"dataframe\">\n",
              "  <thead>\n",
              "    <tr style=\"text-align: right;\">\n",
              "      <th></th>\n",
              "      <th>FULLNAME</th>\n",
              "    </tr>\n",
              "  </thead>\n",
              "  <tbody>\n",
              "    <tr>\n",
              "      <th>0</th>\n",
              "      <td>L U K ' J A N O V A # I R I N A # I G N A T ' E V N A</td>\n",
              "    </tr>\n",
              "    <tr>\n",
              "      <th>1</th>\n",
              "      <td>B A R M I N # M I H A I L # A L E K S E E V I C H</td>\n",
              "    </tr>\n",
              "    <tr>\n",
              "      <th>2</th>\n",
              "      <td>Б Е Р Д О В С К И Й # А Н Т О Н # И В А Н О В И Ч</td>\n",
              "    </tr>\n",
              "    <tr>\n",
              "      <th>3</th>\n",
              "      <td>B A R A B A S H # S E R G E J # I V A N O V I C H</td>\n",
              "    </tr>\n",
              "    <tr>\n",
              "      <th>4</th>\n",
              "      <td>З У Д Е Р М А Н # Я К О В # Я К О В Л Е В И Ч</td>\n",
              "    </tr>\n",
              "  </tbody>\n",
              "</table>\n",
              "</div>"
            ],
            "text/plain": [
              "                                                FULLNAME\n",
              "0  L U K ' J A N O V A # I R I N A # I G N A T ' E V N A\n",
              "1  B A R M I N # M I H A I L # A L E K S E E V I C H    \n",
              "2  Б Е Р Д О В С К И Й # А Н Т О Н # И В А Н О В И Ч    \n",
              "3  B A R A B A S H # S E R G E J # I V A N O V I C H    \n",
              "4  З У Д Е Р М А Н # Я К О В # Я К О В Л Е В И Ч        "
            ]
          },
          "metadata": {
            "tags": []
          },
          "execution_count": 22
        }
      ]
    },
    {
      "cell_type": "code",
      "metadata": {
        "id": "J-kgMyJ95Lu-",
        "colab_type": "code",
        "colab": {}
      },
      "source": [
        "data_test.to_csv('/content/drive/My Drive/data2/comp_test.csv', index=None)"
      ],
      "execution_count": 0,
      "outputs": []
    },
    {
      "cell_type": "markdown",
      "metadata": {
        "id": "UYD4xpyoltvp",
        "colab_type": "text"
      },
      "source": [
        "# ___________________"
      ]
    },
    {
      "cell_type": "code",
      "metadata": {
        "id": "lQXm6RZjltvp",
        "colab_type": "code",
        "colab": {}
      },
      "source": [
        "tokenize = lambda x: x.split(' ')"
      ],
      "execution_count": 0,
      "outputs": []
    },
    {
      "cell_type": "code",
      "metadata": {
        "id": "vr2DBBxLltvr",
        "colab_type": "code",
        "colab": {}
      },
      "source": [
        "TEXT = Field(sequential=True, tokenize=tokenize, lower=True)\n",
        "LABEL = Field(sequential=False, use_vocab=False, is_target=True)"
      ],
      "execution_count": 0,
      "outputs": []
    },
    {
      "cell_type": "code",
      "metadata": {
        "id": "CjMvZrUBltvs",
        "colab_type": "code",
        "colab": {}
      },
      "source": [
        "nation_fields = [('FULLNAME', TEXT), ('NATION', LABEL)]"
      ],
      "execution_count": 0,
      "outputs": []
    },
    {
      "cell_type": "code",
      "metadata": {
        "id": "kEUsTQzsltvu",
        "colab_type": "code",
        "colab": {}
      },
      "source": [
        "trn, vld = TabularDataset.splits(path='/content/drive/My Drive/data2/',\n",
        "                                 train='train.csv',\n",
        "                                 validation=\"test.csv\",\n",
        "                                 format='csv',\n",
        "                                 skip_header=True,\n",
        "                                 fields=nation_fields)"
      ],
      "execution_count": 0,
      "outputs": []
    },
    {
      "cell_type": "code",
      "metadata": {
        "id": "nkprP75Vltvv",
        "colab_type": "code",
        "colab": {}
      },
      "source": [
        "TEXT.build_vocab(trn)"
      ],
      "execution_count": 0,
      "outputs": []
    },
    {
      "cell_type": "code",
      "metadata": {
        "id": "L34kvCRfltvw",
        "colab_type": "code",
        "outputId": "576c724a-b61c-40e5-f81e-1f3bb33b385d",
        "colab": {
          "base_uri": "https://localhost:8080/",
          "height": 191
        }
      },
      "source": [
        "TEXT.vocab.freqs.most_common(10)"
      ],
      "execution_count": 0,
      "outputs": [
        {
          "output_type": "execute_result",
          "data": {
            "text/plain": [
              "[('#', 1668122),\n",
              " ('a', 1098630),\n",
              " ('i', 1076177),\n",
              " ('и', 1075400),\n",
              " ('а', 1005061),\n",
              " ('v', 857512),\n",
              " ('в', 857228),\n",
              " ('o', 796645),\n",
              " ('о', 796621),\n",
              " ('e', 712919)]"
            ]
          },
          "metadata": {
            "tags": []
          },
          "execution_count": 29
        }
      ]
    },
    {
      "cell_type": "code",
      "metadata": {
        "id": "EQLMHcstltvy",
        "colab_type": "code",
        "outputId": "f4a611b2-85fe-4d35-8cdf-17ff0d502070",
        "colab": {
          "base_uri": "https://localhost:8080/",
          "height": 1000
        }
      },
      "source": [
        "TEXT.vocab.stoi"
      ],
      "execution_count": 0,
      "outputs": [
        {
          "output_type": "execute_result",
          "data": {
            "text/plain": [
              "defaultdict(<function torchtext.vocab._default_unk_index>,\n",
              "            {'\"': 72,\n",
              "             '#': 2,\n",
              "             '$': 71,\n",
              "             \"'\": 44,\n",
              "             '(': 64,\n",
              "             ')': 63,\n",
              "             '*': 73,\n",
              "             ',': 75,\n",
              "             '-': 56,\n",
              "             '.': 60,\n",
              "             '/': 68,\n",
              "             '0': 67,\n",
              "             '1': 77,\n",
              "             '2': 76,\n",
              "             '3': 78,\n",
              "             '4': 79,\n",
              "             '8': 74,\n",
              "             '9': 80,\n",
              "             ':': 65,\n",
              "             '<': 69,\n",
              "             '<pad>': 1,\n",
              "             '<unk>': 0,\n",
              "             '=': 81,\n",
              "             '>': 70,\n",
              "             '?': 62,\n",
              "             'a': 3,\n",
              "             'b': 42,\n",
              "             'c': 23,\n",
              "             'd': 31,\n",
              "             'e': 11,\n",
              "             'f': 40,\n",
              "             'g': 35,\n",
              "             'h': 15,\n",
              "             'i': 4,\n",
              "             'j': 28,\n",
              "             'k': 22,\n",
              "             'l': 19,\n",
              "             'm': 29,\n",
              "             'n': 14,\n",
              "             'o': 9,\n",
              "             'p': 38,\n",
              "             'r': 16,\n",
              "             's': 18,\n",
              "             't': 26,\n",
              "             'u': 33,\n",
              "             'v': 7,\n",
              "             'y': 52,\n",
              "             'z': 47,\n",
              "             '\\xa0': 66,\n",
              "             'а': 6,\n",
              "             'б': 41,\n",
              "             'в': 8,\n",
              "             'г': 34,\n",
              "             'д': 32,\n",
              "             'е': 12,\n",
              "             'ж': 54,\n",
              "             'з': 49,\n",
              "             'и': 5,\n",
              "             'й': 36,\n",
              "             'к': 21,\n",
              "             'л': 20,\n",
              "             'м': 30,\n",
              "             'н': 13,\n",
              "             'о': 10,\n",
              "             'п': 39,\n",
              "             'р': 17,\n",
              "             'с': 25,\n",
              "             'т': 27,\n",
              "             'у': 37,\n",
              "             'ф': 43,\n",
              "             'х': 46,\n",
              "             'ц': 51,\n",
              "             'ч': 24,\n",
              "             'ш': 50,\n",
              "             'щ': 58,\n",
              "             'ъ': 61,\n",
              "             'ы': 53,\n",
              "             'ь': 45,\n",
              "             'э': 57,\n",
              "             'ю': 55,\n",
              "             'я': 48,\n",
              "             'ё': 59})"
            ]
          },
          "metadata": {
            "tags": []
          },
          "execution_count": 30
        }
      ]
    },
    {
      "cell_type": "code",
      "metadata": {
        "id": "ryFHiNY7ltv0",
        "colab_type": "code",
        "colab": {}
      },
      "source": [
        "batch_size = 256"
      ],
      "execution_count": 0,
      "outputs": []
    },
    {
      "cell_type": "code",
      "metadata": {
        "id": "jXNkkHshltv1",
        "colab_type": "code",
        "colab": {}
      },
      "source": [
        "train_iter, val_iter = BucketIterator.splits((trn, vld),\n",
        "                                             batch_sizes=(batch_size, batch_size),\n",
        "                                             device=device,\n",
        "                                             sort_key=lambda x: len(x.FULLNAME),\n",
        "                                             sort_within_batch=False,\n",
        "                                             repeat=False)"
      ],
      "execution_count": 0,
      "outputs": []
    },
    {
      "cell_type": "code",
      "metadata": {
        "id": "iLQ_nQvSltv2",
        "colab_type": "code",
        "colab": {}
      },
      "source": [
        "class BatchWrapper:\n",
        "    def __init__(self, dl, x_var, y_var):\n",
        "        self.dl = dl\n",
        "        self.x_var = x_var\n",
        "        self.y_var = y_var\n",
        "    \n",
        "    def __iter__(self):\n",
        "        for batch in self.dl:\n",
        "            x = getattr(batch, self.x_var)\n",
        "            y = getattr(batch, self.y_var)\n",
        "            yield (x, y)\n",
        "    \n",
        "    def __len__(self):\n",
        "        return len(self.dl)"
      ],
      "execution_count": 0,
      "outputs": []
    },
    {
      "cell_type": "code",
      "metadata": {
        "id": "9z_uXI2dltv3",
        "colab_type": "code",
        "colab": {}
      },
      "source": [
        "train_dl = BatchWrapper(train_iter, 'FULLNAME', 'NATION')\n",
        "val_dl = BatchWrapper(val_iter, 'FULLNAME', 'NATION')"
      ],
      "execution_count": 0,
      "outputs": []
    },
    {
      "cell_type": "code",
      "metadata": {
        "id": "72oGpiHrltv5",
        "colab_type": "code",
        "colab": {}
      },
      "source": [
        "x, y = next(train_dl.__iter__())"
      ],
      "execution_count": 0,
      "outputs": []
    },
    {
      "cell_type": "code",
      "metadata": {
        "id": "3ZADjzF0ltv6",
        "colab_type": "code",
        "outputId": "d2adf84e-5a3d-48cf-b56a-a214166593f3",
        "colab": {
          "base_uri": "https://localhost:8080/",
          "height": 35
        }
      },
      "source": [
        "x.shape"
      ],
      "execution_count": 0,
      "outputs": [
        {
          "output_type": "execute_result",
          "data": {
            "text/plain": [
              "torch.Size([40, 256])"
            ]
          },
          "metadata": {
            "tags": []
          },
          "execution_count": 36
        }
      ]
    },
    {
      "cell_type": "code",
      "metadata": {
        "id": "pWm1MLJWltv8",
        "colab_type": "code",
        "outputId": "cc5e8129-002f-4806-b2c4-d32c77c7eb65",
        "colab": {
          "base_uri": "https://localhost:8080/",
          "height": 35
        }
      },
      "source": [
        "y.shape"
      ],
      "execution_count": 0,
      "outputs": [
        {
          "output_type": "execute_result",
          "data": {
            "text/plain": [
              "torch.Size([256])"
            ]
          },
          "metadata": {
            "tags": []
          },
          "execution_count": 37
        }
      ]
    },
    {
      "cell_type": "code",
      "metadata": {
        "id": "rhFACLlLltv9",
        "colab_type": "code",
        "outputId": "fb79942b-b117-4f09-f41a-49e7961e1aa2",
        "colab": {
          "base_uri": "https://localhost:8080/",
          "height": 69
        }
      },
      "source": [
        "x.transpose(1, 0)[0]"
      ],
      "execution_count": 0,
      "outputs": [
        {
          "output_type": "execute_result",
          "data": {
            "text/plain": [
              "tensor([39, 37, 50,  5, 13,  2,  8,  6, 25,  5, 20,  5, 36,  2,  5, 34, 13,  6,\n",
              "        27, 45, 12,  8,  5, 24,  1,  1,  1,  1,  1,  1,  1,  1,  1,  1,  1,  1,\n",
              "         1,  1,  1,  1], device='cuda:0')"
            ]
          },
          "metadata": {
            "tags": []
          },
          "execution_count": 38
        }
      ]
    },
    {
      "cell_type": "code",
      "metadata": {
        "id": "gZOreL1mltv-",
        "colab_type": "code",
        "colab": {}
      },
      "source": [
        "class GlobalMaxPooling(nn.Module):\n",
        "    def __init__(self, dim=-1):\n",
        "        super(self.__class__, self).__init__()\n",
        "        self.dim = dim\n",
        "        \n",
        "    def forward(self, x):\n",
        "        return x.max(dim=self.dim)[0]"
      ],
      "execution_count": 0,
      "outputs": []
    },
    {
      "cell_type": "code",
      "metadata": {
        "id": "s4l1pM7altv_",
        "colab_type": "code",
        "colab": {}
      },
      "source": [
        "class SimpleBiLSTM(nn.Module):\n",
        "    def __init__(self, inp_dim, hidden_dim=700, emb_dim=300, output_dim=188):\n",
        "        super().__init__()\n",
        "        self.embedding = nn.Embedding(inp_dim, emb_dim)\n",
        "        self.lstm = nn.LSTM(emb_dim, hidden_dim, num_layers=1, bidirectional=True)\n",
        "        self.pool = GlobalMaxPooling(dim=0) \n",
        "        self.dropout = nn.Dropout(0.25, inplace=True)\n",
        "        self.linear = nn.Linear(2 * hidden_dim, hidden_dim)\n",
        "        self.relu = nn.ReLU(inplace=True)\n",
        "        self.predictor = nn.Linear(hidden_dim, output_dim)\n",
        "    \n",
        "    def forward(self, seq):\n",
        "        # [seq_length, batch_size]\n",
        "        x = self.embedding(seq) # [seq_length, batch_size, emb_dim]\n",
        "        x, _ = self.lstm(self.embedding(seq)) # [seq_length, batch_size, num_dir * hid_size]\n",
        "        x = self.pool(x) # [batch_size, num_dir * hid_size]\n",
        "        x = self.dropout(x) # [batch_size, num_dir * hid_size]\n",
        "        x = self.linear(x) # [batch_size, hid_size]\n",
        "        x = self.relu(x) # [batch_size, hid_size]\n",
        "        preds = self.predictor(x) # [batch_size, output_size]\n",
        "        return preds"
      ],
      "execution_count": 0,
      "outputs": []
    },
    {
      "cell_type": "code",
      "metadata": {
        "id": "whM2dXH8ltwA",
        "colab_type": "code",
        "outputId": "de57ef95-a869-42c7-f8ed-8d6e8a33c329",
        "colab": {
          "base_uri": "https://localhost:8080/",
          "height": 173
        }
      },
      "source": [
        "model = SimpleBiLSTM(inp_dim=len(TEXT.vocab))\n",
        "model.load_state_dict(torch.load('/content/drive/My Drive/data2/best_model.pt'))\n",
        "model.cuda()"
      ],
      "execution_count": 0,
      "outputs": [
        {
          "output_type": "execute_result",
          "data": {
            "text/plain": [
              "SimpleBiLSTM(\n",
              "  (embedding): Embedding(82, 300)\n",
              "  (lstm): LSTM(300, 700, bidirectional=True)\n",
              "  (pool): GlobalMaxPooling()\n",
              "  (dropout): Dropout(p=0.25, inplace=True)\n",
              "  (linear): Linear(in_features=1400, out_features=700, bias=True)\n",
              "  (relu): ReLU(inplace=True)\n",
              "  (predictor): Linear(in_features=700, out_features=188, bias=True)\n",
              ")"
            ]
          },
          "metadata": {
            "tags": []
          },
          "execution_count": 41
        }
      ]
    },
    {
      "cell_type": "code",
      "metadata": {
        "id": "uVKTNKRaltwC",
        "colab_type": "code",
        "colab": {}
      },
      "source": [
        "opt = optim.Adam(model.parameters(), lr=1e-4)\n",
        "loss_func = nn.CrossEntropyLoss()\n",
        "num_epochs = 200"
      ],
      "execution_count": 0,
      "outputs": []
    },
    {
      "cell_type": "code",
      "metadata": {
        "id": "R6-k-NF9ltwD",
        "colab_type": "code",
        "outputId": "5c0118a9-d295-4c1b-ac9b-762517c2a178",
        "colab": {
          "base_uri": "https://localhost:8080/",
          "height": 413,
          "referenced_widgets": [
            "81c8b39efc8f428ca90bfed1ea820dcd",
            "fee7e727f40f41f4989d6221f00baffa",
            "cbe80293202b438a8e7695fc42f0f0b5",
            "64568ea373a3466cbb354e7a6b577490",
            "d2ceec0dfa5648cd9f8155d027fb19a9",
            "493a963a3364428db4b7f1c5442c19a5",
            "6051b6a079e349a1b74c314570c037ef",
            "2eab7891e79b4ef898d8227d1236854c"
          ]
        }
      },
      "source": [
        "train_loss = []\n",
        "val_f1 = []\n",
        "try:\n",
        "    with open('/content/drive/My Drive/shift_data/best_f1.pkl', 'rb') as f:\n",
        "        best_f1 = pickle.load(f)\n",
        "except:\n",
        "    best_f1 = 0\n",
        "iter_without_rise = 0\n",
        "\n",
        "for epoch in range(num_epochs):\n",
        "    start_time = time.time()\n",
        "    model.train()\n",
        "    for x, y in tqdm_notebook(train_dl):\n",
        "        preds = model(x)\n",
        "        loss = loss_func(preds, y)\n",
        "        loss.backward()\n",
        "        opt.step()\n",
        "        opt.zero_grad()\n",
        "        train_loss.append(loss.cpu().data.numpy())\n",
        "        \n",
        "    model.eval()\n",
        "    for x, y in tqdm_notebook(val_dl):\n",
        "        preds = model(x).max(1)[1].data\n",
        "        val_f1.append(f1_score(y.data.cpu().numpy(), preds.data.cpu().numpy(), average='macro'))\n",
        "        \n",
        "    curr_f1 = np.mean(val_f1[-len(val_dl):]) * 100\n",
        "\n",
        "    print(\"Epoch {} of {} took {:.3f}s\".format(epoch + 1, num_epochs, time.time() - start_time))\n",
        "    print(\"training loss (in-iteration): \\t{:.6f}\".format(np.mean(train_loss[-len(train_dl):])))\n",
        "    print(\"validation f-score: \\t\\t\\t{:.2f} %\".format(np.mean(val_f1[-len(val_dl):]) * 100))\n",
        "    if curr_f1 > best_f1:\n",
        "        best_f1 = curr_f1\n",
        "        with open('/content/drive/My Drive/data2/best_f1.pkl', 'wb') as f:\n",
        "          pickle.dump(best_f1, f)\n",
        "        torch.save(model.state_dict(), '/content/drive/My Drive/data2/best_model.pt')\n",
        "        iter_without_rise = 0\n",
        "    else:\n",
        "        iter_without_rise +=1\n",
        "    if iter_without_rise >= 10:\n",
        "        break"
      ],
      "execution_count": 0,
      "outputs": [
        {
          "output_type": "display_data",
          "data": {
            "application/vnd.jupyter.widget-view+json": {
              "model_id": "81c8b39efc8f428ca90bfed1ea820dcd",
              "version_minor": 0,
              "version_major": 2
            },
            "text/plain": [
              "HBox(children=(IntProgress(value=0, max=3241), HTML(value='')))"
            ]
          },
          "metadata": {
            "tags": []
          }
        },
        {
          "output_type": "error",
          "ename": "KeyboardInterrupt",
          "evalue": "ignored",
          "traceback": [
            "\u001b[0;31m---------------------------------------------------------------------------\u001b[0m",
            "\u001b[0;31mKeyboardInterrupt\u001b[0m                         Traceback (most recent call last)",
            "\u001b[0;32m<ipython-input-43-42dbe152f98d>\u001b[0m in \u001b[0;36m<module>\u001b[0;34m()\u001b[0m\n\u001b[1;32m     14\u001b[0m         \u001b[0mpreds\u001b[0m \u001b[0;34m=\u001b[0m \u001b[0mmodel\u001b[0m\u001b[0;34m(\u001b[0m\u001b[0mx\u001b[0m\u001b[0;34m)\u001b[0m\u001b[0;34m\u001b[0m\u001b[0;34m\u001b[0m\u001b[0m\n\u001b[1;32m     15\u001b[0m         \u001b[0mloss\u001b[0m \u001b[0;34m=\u001b[0m \u001b[0mloss_func\u001b[0m\u001b[0;34m(\u001b[0m\u001b[0mpreds\u001b[0m\u001b[0;34m,\u001b[0m \u001b[0my\u001b[0m\u001b[0;34m)\u001b[0m\u001b[0;34m\u001b[0m\u001b[0;34m\u001b[0m\u001b[0m\n\u001b[0;32m---> 16\u001b[0;31m         \u001b[0mloss\u001b[0m\u001b[0;34m.\u001b[0m\u001b[0mbackward\u001b[0m\u001b[0;34m(\u001b[0m\u001b[0;34m)\u001b[0m\u001b[0;34m\u001b[0m\u001b[0;34m\u001b[0m\u001b[0m\n\u001b[0m\u001b[1;32m     17\u001b[0m         \u001b[0mopt\u001b[0m\u001b[0;34m.\u001b[0m\u001b[0mstep\u001b[0m\u001b[0;34m(\u001b[0m\u001b[0;34m)\u001b[0m\u001b[0;34m\u001b[0m\u001b[0;34m\u001b[0m\u001b[0m\n\u001b[1;32m     18\u001b[0m         \u001b[0mopt\u001b[0m\u001b[0;34m.\u001b[0m\u001b[0mzero_grad\u001b[0m\u001b[0;34m(\u001b[0m\u001b[0;34m)\u001b[0m\u001b[0;34m\u001b[0m\u001b[0;34m\u001b[0m\u001b[0m\n",
            "\u001b[0;32m/usr/local/lib/python3.6/dist-packages/torch/tensor.py\u001b[0m in \u001b[0;36mbackward\u001b[0;34m(self, gradient, retain_graph, create_graph)\u001b[0m\n\u001b[1;32m    164\u001b[0m                 \u001b[0mproducts\u001b[0m\u001b[0;34m.\u001b[0m \u001b[0mDefaults\u001b[0m \u001b[0mto\u001b[0m\u001b[0;31m \u001b[0m\u001b[0;31m`\u001b[0m\u001b[0;31m`\u001b[0m\u001b[0;32mFalse\u001b[0m\u001b[0;31m`\u001b[0m\u001b[0;31m`\u001b[0m\u001b[0;34m.\u001b[0m\u001b[0;34m\u001b[0m\u001b[0;34m\u001b[0m\u001b[0m\n\u001b[1;32m    165\u001b[0m         \"\"\"\n\u001b[0;32m--> 166\u001b[0;31m         \u001b[0mtorch\u001b[0m\u001b[0;34m.\u001b[0m\u001b[0mautograd\u001b[0m\u001b[0;34m.\u001b[0m\u001b[0mbackward\u001b[0m\u001b[0;34m(\u001b[0m\u001b[0mself\u001b[0m\u001b[0;34m,\u001b[0m \u001b[0mgradient\u001b[0m\u001b[0;34m,\u001b[0m \u001b[0mretain_graph\u001b[0m\u001b[0;34m,\u001b[0m \u001b[0mcreate_graph\u001b[0m\u001b[0;34m)\u001b[0m\u001b[0;34m\u001b[0m\u001b[0;34m\u001b[0m\u001b[0m\n\u001b[0m\u001b[1;32m    167\u001b[0m \u001b[0;34m\u001b[0m\u001b[0m\n\u001b[1;32m    168\u001b[0m     \u001b[0;32mdef\u001b[0m \u001b[0mregister_hook\u001b[0m\u001b[0;34m(\u001b[0m\u001b[0mself\u001b[0m\u001b[0;34m,\u001b[0m \u001b[0mhook\u001b[0m\u001b[0;34m)\u001b[0m\u001b[0;34m:\u001b[0m\u001b[0;34m\u001b[0m\u001b[0;34m\u001b[0m\u001b[0m\n",
            "\u001b[0;32m/usr/local/lib/python3.6/dist-packages/torch/autograd/__init__.py\u001b[0m in \u001b[0;36mbackward\u001b[0;34m(tensors, grad_tensors, retain_graph, create_graph, grad_variables)\u001b[0m\n\u001b[1;32m     97\u001b[0m     Variable._execution_engine.run_backward(\n\u001b[1;32m     98\u001b[0m         \u001b[0mtensors\u001b[0m\u001b[0;34m,\u001b[0m \u001b[0mgrad_tensors\u001b[0m\u001b[0;34m,\u001b[0m \u001b[0mretain_graph\u001b[0m\u001b[0;34m,\u001b[0m \u001b[0mcreate_graph\u001b[0m\u001b[0;34m,\u001b[0m\u001b[0;34m\u001b[0m\u001b[0;34m\u001b[0m\u001b[0m\n\u001b[0;32m---> 99\u001b[0;31m         allow_unreachable=True)  # allow_unreachable flag\n\u001b[0m\u001b[1;32m    100\u001b[0m \u001b[0;34m\u001b[0m\u001b[0m\n\u001b[1;32m    101\u001b[0m \u001b[0;34m\u001b[0m\u001b[0m\n",
            "\u001b[0;31mKeyboardInterrupt\u001b[0m: "
          ]
        }
      ]
    },
    {
      "cell_type": "code",
      "metadata": {
        "id": "dXHD04ofltwF",
        "colab_type": "code",
        "outputId": "ae39b1bc-4d0a-4460-beae-2672ccb34f02",
        "colab": {
          "base_uri": "https://localhost:8080/",
          "height": 173
        }
      },
      "source": [
        "model.load_state_dict(torch.load('/content/drive/My Drive/data2/best_model.pt'))\n",
        "model.eval()"
      ],
      "execution_count": 0,
      "outputs": [
        {
          "output_type": "execute_result",
          "data": {
            "text/plain": [
              "SimpleBiLSTM(\n",
              "  (embedding): Embedding(82, 300)\n",
              "  (lstm): LSTM(300, 700, bidirectional=True)\n",
              "  (pool): GlobalMaxPooling()\n",
              "  (dropout): Dropout(p=0.25, inplace=True)\n",
              "  (linear): Linear(in_features=1400, out_features=700, bias=True)\n",
              "  (relu): ReLU(inplace=True)\n",
              "  (predictor): Linear(in_features=700, out_features=188, bias=True)\n",
              ")"
            ]
          },
          "metadata": {
            "tags": []
          },
          "execution_count": 44
        }
      ]
    },
    {
      "cell_type": "code",
      "metadata": {
        "id": "jTE0MUM1ltwH",
        "colab_type": "code",
        "colab": {}
      },
      "source": [
        "with open('/content/drive/My Drive/data2/label_enc.pkl', 'rb') as f:\n",
        "    encoder = pickle.load(f)"
      ],
      "execution_count": 0,
      "outputs": []
    },
    {
      "cell_type": "code",
      "metadata": {
        "id": "8_x8KPFzxPSi",
        "colab_type": "code",
        "colab": {}
      },
      "source": [
        "def predict(name, model=model):\n",
        "  X = vectorizer.transform([name])\n",
        "  name = name.replace(' ', '#').replace('', ' ').lower()[1: -1]\n",
        "  name = [TEXT.tokenize(name)]\n",
        "  inp = TEXT.numericalize(TEXT.pad(name)).cuda()\n",
        "  preds = model(inp)\n",
        "  pred = preds.max(1)[1].data\n",
        "  gender_pred = gender_model.predict(X)[0]\n",
        "  return encoder.inverse_transform(pred.data.cpu().numpy())[0], gender_pred"
      ],
      "execution_count": 0,
      "outputs": []
    },
    {
      "cell_type": "code",
      "metadata": {
        "id": "laPZviii2XiZ",
        "colab_type": "code",
        "outputId": "28eacbb6-bf14-46fe-ba8e-8c65abbd448c",
        "colab": {
          "base_uri": "https://localhost:8080/",
          "height": 35
        }
      },
      "source": [
        "predict('')"
      ],
      "execution_count": 0,
      "outputs": [
        {
          "output_type": "execute_result",
          "data": {
            "text/plain": [
              "('НЕМЕЦ', 'ж')"
            ]
          },
          "metadata": {
            "tags": []
          },
          "execution_count": 56
        }
      ]
    },
    {
      "cell_type": "code",
      "metadata": {
        "id": "rxh1azZWltwI",
        "colab_type": "code",
        "outputId": "b74c1a46-6b01-4ca9-b781-be52d5ab9cf1",
        "colab": {
          "base_uri": "https://localhost:8080/",
          "height": 346
        }
      },
      "source": [
        "test = TabularDataset(path='/content/drive/My Drive/data2/comp_test.csv',\n",
        "                      format='csv',\n",
        "                      skip_header=True,\n",
        "                      fields=[('FULLNAME', TEXT)])"
      ],
      "execution_count": 0,
      "outputs": [
        {
          "output_type": "error",
          "ename": "KeyboardInterrupt",
          "evalue": "ignored",
          "traceback": [
            "\u001b[0;31m---------------------------------------------------------------------------\u001b[0m",
            "\u001b[0;31mKeyboardInterrupt\u001b[0m                         Traceback (most recent call last)",
            "\u001b[0;32m<ipython-input-61-6e61f56aa2ee>\u001b[0m in \u001b[0;36m<module>\u001b[0;34m()\u001b[0m\n\u001b[1;32m      2\u001b[0m                       \u001b[0mformat\u001b[0m\u001b[0;34m=\u001b[0m\u001b[0;34m'csv'\u001b[0m\u001b[0;34m,\u001b[0m\u001b[0;34m\u001b[0m\u001b[0;34m\u001b[0m\u001b[0m\n\u001b[1;32m      3\u001b[0m                       \u001b[0mskip_header\u001b[0m\u001b[0;34m=\u001b[0m\u001b[0;32mTrue\u001b[0m\u001b[0;34m,\u001b[0m\u001b[0;34m\u001b[0m\u001b[0;34m\u001b[0m\u001b[0m\n\u001b[0;32m----> 4\u001b[0;31m                       fields=[('FULLNAME', TEXT)])\n\u001b[0m",
            "\u001b[0;32m/usr/local/lib/python3.6/dist-packages/torchtext/data/dataset.py\u001b[0m in \u001b[0;36m__init__\u001b[0;34m(self, path, format, fields, skip_header, csv_reader_params, **kwargs)\u001b[0m\n\u001b[1;32m    269\u001b[0m                 \u001b[0mnext\u001b[0m\u001b[0;34m(\u001b[0m\u001b[0mreader\u001b[0m\u001b[0;34m)\u001b[0m\u001b[0;34m\u001b[0m\u001b[0;34m\u001b[0m\u001b[0m\n\u001b[1;32m    270\u001b[0m \u001b[0;34m\u001b[0m\u001b[0m\n\u001b[0;32m--> 271\u001b[0;31m             \u001b[0mexamples\u001b[0m \u001b[0;34m=\u001b[0m \u001b[0;34m[\u001b[0m\u001b[0mmake_example\u001b[0m\u001b[0;34m(\u001b[0m\u001b[0mline\u001b[0m\u001b[0;34m,\u001b[0m \u001b[0mfields\u001b[0m\u001b[0;34m)\u001b[0m \u001b[0;32mfor\u001b[0m \u001b[0mline\u001b[0m \u001b[0;32min\u001b[0m \u001b[0mreader\u001b[0m\u001b[0;34m]\u001b[0m\u001b[0;34m\u001b[0m\u001b[0;34m\u001b[0m\u001b[0m\n\u001b[0m\u001b[1;32m    272\u001b[0m \u001b[0;34m\u001b[0m\u001b[0m\n\u001b[1;32m    273\u001b[0m         \u001b[0;32mif\u001b[0m \u001b[0misinstance\u001b[0m\u001b[0;34m(\u001b[0m\u001b[0mfields\u001b[0m\u001b[0;34m,\u001b[0m \u001b[0mdict\u001b[0m\u001b[0;34m)\u001b[0m\u001b[0;34m:\u001b[0m\u001b[0;34m\u001b[0m\u001b[0;34m\u001b[0m\u001b[0m\n",
            "\u001b[0;32m/usr/local/lib/python3.6/dist-packages/torchtext/data/dataset.py\u001b[0m in \u001b[0;36m<listcomp>\u001b[0;34m(.0)\u001b[0m\n\u001b[1;32m    269\u001b[0m                 \u001b[0mnext\u001b[0m\u001b[0;34m(\u001b[0m\u001b[0mreader\u001b[0m\u001b[0;34m)\u001b[0m\u001b[0;34m\u001b[0m\u001b[0;34m\u001b[0m\u001b[0m\n\u001b[1;32m    270\u001b[0m \u001b[0;34m\u001b[0m\u001b[0m\n\u001b[0;32m--> 271\u001b[0;31m             \u001b[0mexamples\u001b[0m \u001b[0;34m=\u001b[0m \u001b[0;34m[\u001b[0m\u001b[0mmake_example\u001b[0m\u001b[0;34m(\u001b[0m\u001b[0mline\u001b[0m\u001b[0;34m,\u001b[0m \u001b[0mfields\u001b[0m\u001b[0;34m)\u001b[0m \u001b[0;32mfor\u001b[0m \u001b[0mline\u001b[0m \u001b[0;32min\u001b[0m \u001b[0mreader\u001b[0m\u001b[0;34m]\u001b[0m\u001b[0;34m\u001b[0m\u001b[0;34m\u001b[0m\u001b[0m\n\u001b[0m\u001b[1;32m    272\u001b[0m \u001b[0;34m\u001b[0m\u001b[0m\n\u001b[1;32m    273\u001b[0m         \u001b[0;32mif\u001b[0m \u001b[0misinstance\u001b[0m\u001b[0;34m(\u001b[0m\u001b[0mfields\u001b[0m\u001b[0;34m,\u001b[0m \u001b[0mdict\u001b[0m\u001b[0;34m)\u001b[0m\u001b[0;34m:\u001b[0m\u001b[0;34m\u001b[0m\u001b[0;34m\u001b[0m\u001b[0m\n",
            "\u001b[0;32m/usr/local/lib/python3.6/dist-packages/torchtext/data/example.py\u001b[0m in \u001b[0;36mfromCSV\u001b[0;34m(cls, data, fields, field_to_index)\u001b[0m\n\u001b[1;32m     32\u001b[0m     \u001b[0;32mdef\u001b[0m \u001b[0mfromCSV\u001b[0m\u001b[0;34m(\u001b[0m\u001b[0mcls\u001b[0m\u001b[0;34m,\u001b[0m \u001b[0mdata\u001b[0m\u001b[0;34m,\u001b[0m \u001b[0mfields\u001b[0m\u001b[0;34m,\u001b[0m \u001b[0mfield_to_index\u001b[0m\u001b[0;34m=\u001b[0m\u001b[0;32mNone\u001b[0m\u001b[0;34m)\u001b[0m\u001b[0;34m:\u001b[0m\u001b[0;34m\u001b[0m\u001b[0;34m\u001b[0m\u001b[0m\n\u001b[1;32m     33\u001b[0m         \u001b[0;32mif\u001b[0m \u001b[0mfield_to_index\u001b[0m \u001b[0;32mis\u001b[0m \u001b[0;32mNone\u001b[0m\u001b[0;34m:\u001b[0m\u001b[0;34m\u001b[0m\u001b[0;34m\u001b[0m\u001b[0m\n\u001b[0;32m---> 34\u001b[0;31m             \u001b[0;32mreturn\u001b[0m \u001b[0mcls\u001b[0m\u001b[0;34m.\u001b[0m\u001b[0mfromlist\u001b[0m\u001b[0;34m(\u001b[0m\u001b[0mdata\u001b[0m\u001b[0;34m,\u001b[0m \u001b[0mfields\u001b[0m\u001b[0;34m)\u001b[0m\u001b[0;34m\u001b[0m\u001b[0;34m\u001b[0m\u001b[0m\n\u001b[0m\u001b[1;32m     35\u001b[0m         \u001b[0;32melse\u001b[0m\u001b[0;34m:\u001b[0m\u001b[0;34m\u001b[0m\u001b[0;34m\u001b[0m\u001b[0m\n\u001b[1;32m     36\u001b[0m             \u001b[0;32massert\u001b[0m\u001b[0;34m(\u001b[0m\u001b[0misinstance\u001b[0m\u001b[0;34m(\u001b[0m\u001b[0mfields\u001b[0m\u001b[0;34m,\u001b[0m \u001b[0mdict\u001b[0m\u001b[0;34m)\u001b[0m\u001b[0;34m)\u001b[0m\u001b[0;34m\u001b[0m\u001b[0;34m\u001b[0m\u001b[0m\n",
            "\u001b[0;32m/usr/local/lib/python3.6/dist-packages/torchtext/data/example.py\u001b[0m in \u001b[0;36mfromlist\u001b[0;34m(cls, data, fields)\u001b[0m\n\u001b[1;32m     50\u001b[0m                         \u001b[0msetattr\u001b[0m\u001b[0;34m(\u001b[0m\u001b[0mex\u001b[0m\u001b[0;34m,\u001b[0m \u001b[0mn\u001b[0m\u001b[0;34m,\u001b[0m \u001b[0mf\u001b[0m\u001b[0;34m.\u001b[0m\u001b[0mpreprocess\u001b[0m\u001b[0;34m(\u001b[0m\u001b[0mval\u001b[0m\u001b[0;34m)\u001b[0m\u001b[0;34m)\u001b[0m\u001b[0;34m\u001b[0m\u001b[0;34m\u001b[0m\u001b[0m\n\u001b[1;32m     51\u001b[0m                 \u001b[0;32melse\u001b[0m\u001b[0;34m:\u001b[0m\u001b[0;34m\u001b[0m\u001b[0;34m\u001b[0m\u001b[0m\n\u001b[0;32m---> 52\u001b[0;31m                     \u001b[0msetattr\u001b[0m\u001b[0;34m(\u001b[0m\u001b[0mex\u001b[0m\u001b[0;34m,\u001b[0m \u001b[0mname\u001b[0m\u001b[0;34m,\u001b[0m \u001b[0mfield\u001b[0m\u001b[0;34m.\u001b[0m\u001b[0mpreprocess\u001b[0m\u001b[0;34m(\u001b[0m\u001b[0mval\u001b[0m\u001b[0;34m)\u001b[0m\u001b[0;34m)\u001b[0m\u001b[0;34m\u001b[0m\u001b[0;34m\u001b[0m\u001b[0m\n\u001b[0m\u001b[1;32m     53\u001b[0m         \u001b[0;32mreturn\u001b[0m \u001b[0mex\u001b[0m\u001b[0;34m\u001b[0m\u001b[0;34m\u001b[0m\u001b[0m\n\u001b[1;32m     54\u001b[0m \u001b[0;34m\u001b[0m\u001b[0m\n",
            "\u001b[0;32m/usr/local/lib/python3.6/dist-packages/torchtext/data/field.py\u001b[0m in \u001b[0;36mpreprocess\u001b[0;34m(self, x)\u001b[0m\n\u001b[1;32m    179\u001b[0m             \u001b[0mx\u001b[0m \u001b[0;34m=\u001b[0m \u001b[0mself\u001b[0m\u001b[0;34m.\u001b[0m\u001b[0mtokenize\u001b[0m\u001b[0;34m(\u001b[0m\u001b[0mx\u001b[0m\u001b[0;34m.\u001b[0m\u001b[0mrstrip\u001b[0m\u001b[0;34m(\u001b[0m\u001b[0;34m'\\n'\u001b[0m\u001b[0;34m)\u001b[0m\u001b[0;34m)\u001b[0m\u001b[0;34m\u001b[0m\u001b[0;34m\u001b[0m\u001b[0m\n\u001b[1;32m    180\u001b[0m         \u001b[0;32mif\u001b[0m \u001b[0mself\u001b[0m\u001b[0;34m.\u001b[0m\u001b[0mlower\u001b[0m\u001b[0;34m:\u001b[0m\u001b[0;34m\u001b[0m\u001b[0;34m\u001b[0m\u001b[0m\n\u001b[0;32m--> 181\u001b[0;31m             \u001b[0mx\u001b[0m \u001b[0;34m=\u001b[0m \u001b[0mPipeline\u001b[0m\u001b[0;34m(\u001b[0m\u001b[0msix\u001b[0m\u001b[0;34m.\u001b[0m\u001b[0mtext_type\u001b[0m\u001b[0;34m.\u001b[0m\u001b[0mlower\u001b[0m\u001b[0;34m)\u001b[0m\u001b[0;34m(\u001b[0m\u001b[0mx\u001b[0m\u001b[0;34m)\u001b[0m\u001b[0;34m\u001b[0m\u001b[0;34m\u001b[0m\u001b[0m\n\u001b[0m\u001b[1;32m    182\u001b[0m         \u001b[0;32mif\u001b[0m \u001b[0mself\u001b[0m\u001b[0;34m.\u001b[0m\u001b[0msequential\u001b[0m \u001b[0;32mand\u001b[0m \u001b[0mself\u001b[0m\u001b[0;34m.\u001b[0m\u001b[0muse_vocab\u001b[0m \u001b[0;32mand\u001b[0m \u001b[0mself\u001b[0m\u001b[0;34m.\u001b[0m\u001b[0mstop_words\u001b[0m \u001b[0;32mis\u001b[0m \u001b[0;32mnot\u001b[0m \u001b[0;32mNone\u001b[0m\u001b[0;34m:\u001b[0m\u001b[0;34m\u001b[0m\u001b[0;34m\u001b[0m\u001b[0m\n\u001b[1;32m    183\u001b[0m             \u001b[0mx\u001b[0m \u001b[0;34m=\u001b[0m \u001b[0;34m[\u001b[0m\u001b[0mw\u001b[0m \u001b[0;32mfor\u001b[0m \u001b[0mw\u001b[0m \u001b[0;32min\u001b[0m \u001b[0mx\u001b[0m \u001b[0;32mif\u001b[0m \u001b[0mw\u001b[0m \u001b[0;32mnot\u001b[0m \u001b[0;32min\u001b[0m \u001b[0mself\u001b[0m\u001b[0;34m.\u001b[0m\u001b[0mstop_words\u001b[0m\u001b[0;34m]\u001b[0m\u001b[0;34m\u001b[0m\u001b[0;34m\u001b[0m\u001b[0m\n",
            "\u001b[0;32m/usr/local/lib/python3.6/dist-packages/torchtext/data/pipeline.py\u001b[0m in \u001b[0;36m__call__\u001b[0;34m(self, x, *args)\u001b[0m\n\u001b[1;32m     35\u001b[0m         \"\"\"\n\u001b[1;32m     36\u001b[0m         \u001b[0;32mfor\u001b[0m \u001b[0mpipe\u001b[0m \u001b[0;32min\u001b[0m \u001b[0mself\u001b[0m\u001b[0;34m.\u001b[0m\u001b[0mpipes\u001b[0m\u001b[0;34m:\u001b[0m\u001b[0;34m\u001b[0m\u001b[0;34m\u001b[0m\u001b[0m\n\u001b[0;32m---> 37\u001b[0;31m             \u001b[0mx\u001b[0m \u001b[0;34m=\u001b[0m \u001b[0mpipe\u001b[0m\u001b[0;34m.\u001b[0m\u001b[0mcall\u001b[0m\u001b[0;34m(\u001b[0m\u001b[0mx\u001b[0m\u001b[0;34m,\u001b[0m \u001b[0;34m*\u001b[0m\u001b[0margs\u001b[0m\u001b[0;34m)\u001b[0m\u001b[0;34m\u001b[0m\u001b[0;34m\u001b[0m\u001b[0m\n\u001b[0m\u001b[1;32m     38\u001b[0m         \u001b[0;32mreturn\u001b[0m \u001b[0mx\u001b[0m\u001b[0;34m\u001b[0m\u001b[0;34m\u001b[0m\u001b[0m\n\u001b[1;32m     39\u001b[0m \u001b[0;34m\u001b[0m\u001b[0m\n",
            "\u001b[0;32m/usr/local/lib/python3.6/dist-packages/torchtext/data/pipeline.py\u001b[0m in \u001b[0;36mcall\u001b[0;34m(self, x, *args)\u001b[0m\n\u001b[1;32m     38\u001b[0m         \u001b[0;32mreturn\u001b[0m \u001b[0mx\u001b[0m\u001b[0;34m\u001b[0m\u001b[0;34m\u001b[0m\u001b[0m\n\u001b[1;32m     39\u001b[0m \u001b[0;34m\u001b[0m\u001b[0m\n\u001b[0;32m---> 40\u001b[0;31m     \u001b[0;32mdef\u001b[0m \u001b[0mcall\u001b[0m\u001b[0;34m(\u001b[0m\u001b[0mself\u001b[0m\u001b[0;34m,\u001b[0m \u001b[0mx\u001b[0m\u001b[0;34m,\u001b[0m \u001b[0;34m*\u001b[0m\u001b[0margs\u001b[0m\u001b[0;34m)\u001b[0m\u001b[0;34m:\u001b[0m\u001b[0;34m\u001b[0m\u001b[0;34m\u001b[0m\u001b[0m\n\u001b[0m\u001b[1;32m     41\u001b[0m         \"\"\"Apply _only_ the convert_token function of the current pipeline\n\u001b[1;32m     42\u001b[0m         \u001b[0mto\u001b[0m \u001b[0mthe\u001b[0m \u001b[0minput\u001b[0m\u001b[0;34m.\u001b[0m \u001b[0mIf\u001b[0m \u001b[0mthe\u001b[0m \u001b[0minput\u001b[0m \u001b[0;32mis\u001b[0m \u001b[0ma\u001b[0m \u001b[0mlist\u001b[0m\u001b[0;34m,\u001b[0m \u001b[0ma\u001b[0m \u001b[0mlist\u001b[0m \u001b[0;32mwith\u001b[0m \u001b[0mthe\u001b[0m \u001b[0mresults\u001b[0m \u001b[0mof\u001b[0m\u001b[0;34m\u001b[0m\u001b[0;34m\u001b[0m\u001b[0m\n",
            "\u001b[0;31mKeyboardInterrupt\u001b[0m: "
          ]
        }
      ]
    },
    {
      "cell_type": "code",
      "metadata": {
        "id": "uBbNGdPo4KbS",
        "colab_type": "code",
        "colab": {}
      },
      "source": [
        "test_iter = Iterator(test,\n",
        "                     batch_size=1024,\n",
        "                     sort=False,\n",
        "                     shuffle=False,\n",
        "                     device=device,\n",
        "                     train=False,\n",
        "                     repeat=False)"
      ],
      "execution_count": 0,
      "outputs": []
    },
    {
      "cell_type": "code",
      "metadata": {
        "id": "Z6I3wco05d8x",
        "colab_type": "code",
        "colab": {}
      },
      "source": [
        "x = next(test_iter.__iter__())"
      ],
      "execution_count": 0,
      "outputs": []
    },
    {
      "cell_type": "code",
      "metadata": {
        "id": "eP81-omE5q0D",
        "colab_type": "code",
        "outputId": "331d1b96-6afb-44d4-842f-56d23d19b4af",
        "colab": {
          "base_uri": "https://localhost:8080/",
          "height": 134
        }
      },
      "source": [
        "x.FULLNAME"
      ],
      "execution_count": 0,
      "outputs": [
        {
          "output_type": "execute_result",
          "data": {
            "text/plain": [
              "tensor([[19, 42, 41,  ..., 28, 25,  3],\n",
              "        [33,  3, 12,  ...,  3, 37, 31],\n",
              "        [22, 16, 17,  ..., 29, 32,  4],\n",
              "        ...,\n",
              "        [ 1,  1,  1,  ...,  1,  1,  1],\n",
              "        [ 1,  1,  1,  ...,  1,  1,  1],\n",
              "        [ 1,  1,  1,  ...,  1,  1,  1]], device='cuda:0')"
            ]
          },
          "metadata": {
            "tags": []
          },
          "execution_count": 242
        }
      ]
    },
    {
      "cell_type": "code",
      "metadata": {
        "id": "RsMB91kz4wVe",
        "colab_type": "code",
        "colab": {}
      },
      "source": [
        "def get_predict():\n",
        "  predicts = list()\n",
        "  for x in test_iter:\n",
        "     x = x.FULLNAME\n",
        "     preds = model(x).max(1)[1].data\n",
        "     predicts.extend(list(preds.data.cpu().numpy()))\n",
        "  return predicts"
      ],
      "execution_count": 0,
      "outputs": []
    },
    {
      "cell_type": "code",
      "metadata": {
        "id": "eOWFv5Uhynh7",
        "colab_type": "code",
        "colab": {}
      },
      "source": [
        "predict = get_predict()"
      ],
      "execution_count": 0,
      "outputs": []
    },
    {
      "cell_type": "code",
      "metadata": {
        "id": "RZGXOwPV7Cit",
        "colab_type": "code",
        "colab": {}
      },
      "source": [
        "test = pd.read_csv('/content/drive/My Drive/data2/data_test.csv')"
      ],
      "execution_count": 0,
      "outputs": []
    },
    {
      "cell_type": "code",
      "metadata": {
        "id": "lNnZYJEB6Y-g",
        "colab_type": "code",
        "colab": {}
      },
      "source": [
        "test['NATION'] = encoder.inverse_transform(predict)"
      ],
      "execution_count": 0,
      "outputs": []
    },
    {
      "cell_type": "code",
      "metadata": {
        "id": "3HMgmwo07cDy",
        "colab_type": "code",
        "outputId": "e52526bb-4581-49bc-c55e-9748056cefed",
        "colab": {
          "base_uri": "https://localhost:8080/",
          "height": 639
        }
      },
      "source": [
        "test.head(20)"
      ],
      "execution_count": 0,
      "outputs": [
        {
          "output_type": "execute_result",
          "data": {
            "text/html": [
              "<div>\n",
              "<style scoped>\n",
              "    .dataframe tbody tr th:only-of-type {\n",
              "        vertical-align: middle;\n",
              "    }\n",
              "\n",
              "    .dataframe tbody tr th {\n",
              "        vertical-align: top;\n",
              "    }\n",
              "\n",
              "    .dataframe thead th {\n",
              "        text-align: right;\n",
              "    }\n",
              "</style>\n",
              "<table border=\"1\" class=\"dataframe\">\n",
              "  <thead>\n",
              "    <tr style=\"text-align: right;\">\n",
              "      <th></th>\n",
              "      <th>FULLNAME</th>\n",
              "      <th>NATION</th>\n",
              "    </tr>\n",
              "  </thead>\n",
              "  <tbody>\n",
              "    <tr>\n",
              "      <th>0</th>\n",
              "      <td>LUK'JANOVA IRINA IGNAT'EVNA</td>\n",
              "      <td>РУССКИЙ</td>\n",
              "    </tr>\n",
              "    <tr>\n",
              "      <th>1</th>\n",
              "      <td>BARMIN MIHAIL ALEKSEEVICH</td>\n",
              "      <td>РУССКИЙ</td>\n",
              "    </tr>\n",
              "    <tr>\n",
              "      <th>2</th>\n",
              "      <td>БЕРДОВСКИЙ АНТОН ИВАНОВИЧ</td>\n",
              "      <td>ПОЛЯК</td>\n",
              "    </tr>\n",
              "    <tr>\n",
              "      <th>3</th>\n",
              "      <td>BARABASH SERGEJ IVANOVICH</td>\n",
              "      <td>РУССКИЙ</td>\n",
              "    </tr>\n",
              "    <tr>\n",
              "      <th>4</th>\n",
              "      <td>ЗУДЕРМАН ЯКОВ ЯКОВЛЕВИЧ</td>\n",
              "      <td>НЕМЕЦ</td>\n",
              "    </tr>\n",
              "    <tr>\n",
              "      <th>5</th>\n",
              "      <td>СВИНЦОВА АННА НИКОЛАЕВНА</td>\n",
              "      <td>РУССКИЙ</td>\n",
              "    </tr>\n",
              "    <tr>\n",
              "      <th>6</th>\n",
              "      <td>BARANOVSKAJA MARIJA JUZEFOVNA</td>\n",
              "      <td>ПОЛЯК</td>\n",
              "    </tr>\n",
              "    <tr>\n",
              "      <th>7</th>\n",
              "      <td>МАТВЕЕВ АЛЕКСЕЙ ВАСИЛЬЕВИЧ</td>\n",
              "      <td>РУССКИЙ</td>\n",
              "    </tr>\n",
              "    <tr>\n",
              "      <th>8</th>\n",
              "      <td>GRISHIN FEDOR FILIPPOVICH</td>\n",
              "      <td>РУССКИЙ</td>\n",
              "    </tr>\n",
              "    <tr>\n",
              "      <th>9</th>\n",
              "      <td>JABLONSKAJA MARTSELINA IOSIFOVNA</td>\n",
              "      <td>ПОЛЯК</td>\n",
              "    </tr>\n",
              "    <tr>\n",
              "      <th>10</th>\n",
              "      <td>СИНЕЦКИИ НИКОЛАЙ ИВАНОВИЧ</td>\n",
              "      <td>РУССКИЙ</td>\n",
              "    </tr>\n",
              "    <tr>\n",
              "      <th>11</th>\n",
              "      <td>ШАДСКИХ ФЕДОР ТИМОФЕЕВИЧ</td>\n",
              "      <td>РУССКИЙ</td>\n",
              "    </tr>\n",
              "    <tr>\n",
              "      <th>12</th>\n",
              "      <td>СЕРГЕЕВ КОНСТАНТИН МИХАЙЛОВИЧ</td>\n",
              "      <td>РУССКИЙ</td>\n",
              "    </tr>\n",
              "    <tr>\n",
              "      <th>13</th>\n",
              "      <td>LUKSIK LJUDVIGA MIHAJLOVNA</td>\n",
              "      <td>ПОЛЯК</td>\n",
              "    </tr>\n",
              "    <tr>\n",
              "      <th>14</th>\n",
              "      <td>ПЛАВСКИЙ СТЕПАН ФАЗИЯНОВИЧ</td>\n",
              "      <td>ПОЛЯК</td>\n",
              "    </tr>\n",
              "    <tr>\n",
              "      <th>15</th>\n",
              "      <td>НИГОРОЖЕНКО КОНСТАНТИН ПАХОМОВИЧ</td>\n",
              "      <td>РУССКИЙ</td>\n",
              "    </tr>\n",
              "    <tr>\n",
              "      <th>16</th>\n",
              "      <td>APLJAKAEV KUTLUKALJAM</td>\n",
              "      <td>БАШКИР</td>\n",
              "    </tr>\n",
              "    <tr>\n",
              "      <th>17</th>\n",
              "      <td>ГАЗАЕВА МУЗЛИМАТ КАСИМОВНА</td>\n",
              "      <td>БАКЛАРЕЦ</td>\n",
              "    </tr>\n",
              "    <tr>\n",
              "      <th>18</th>\n",
              "      <td>МАХАРАДЗЕ ТАМАРА ИЛЛАРИОНОВНА</td>\n",
              "      <td>ГРУЗИН</td>\n",
              "    </tr>\n",
              "    <tr>\n",
              "      <th>19</th>\n",
              "      <td>KELA LAVISA GENRIKOVNA</td>\n",
              "      <td>ФИНН</td>\n",
              "    </tr>\n",
              "  </tbody>\n",
              "</table>\n",
              "</div>"
            ],
            "text/plain": [
              "                            FULLNAME    NATION\n",
              "0   LUK'JANOVA IRINA IGNAT'EVNA       РУССКИЙ \n",
              "1   BARMIN MIHAIL ALEKSEEVICH         РУССКИЙ \n",
              "2   БЕРДОВСКИЙ АНТОН ИВАНОВИЧ         ПОЛЯК   \n",
              "3   BARABASH SERGEJ IVANOVICH         РУССКИЙ \n",
              "4   ЗУДЕРМАН ЯКОВ ЯКОВЛЕВИЧ           НЕМЕЦ   \n",
              "5   СВИНЦОВА АННА НИКОЛАЕВНА          РУССКИЙ \n",
              "6   BARANOVSKAJA MARIJA JUZEFOVNA     ПОЛЯК   \n",
              "7   МАТВЕЕВ АЛЕКСЕЙ ВАСИЛЬЕВИЧ        РУССКИЙ \n",
              "8   GRISHIN FEDOR FILIPPOVICH         РУССКИЙ \n",
              "9   JABLONSKAJA MARTSELINA IOSIFOVNA  ПОЛЯК   \n",
              "10  СИНЕЦКИИ НИКОЛАЙ ИВАНОВИЧ         РУССКИЙ \n",
              "11  ШАДСКИХ ФЕДОР ТИМОФЕЕВИЧ          РУССКИЙ \n",
              "12  СЕРГЕЕВ КОНСТАНТИН МИХАЙЛОВИЧ     РУССКИЙ \n",
              "13  LUKSIK LJUDVIGA MIHAJLOVNA        ПОЛЯК   \n",
              "14  ПЛАВСКИЙ СТЕПАН ФАЗИЯНОВИЧ        ПОЛЯК   \n",
              "15  НИГОРОЖЕНКО КОНСТАНТИН ПАХОМОВИЧ  РУССКИЙ \n",
              "16  APLJAKAEV KUTLUKALJAM             БАШКИР  \n",
              "17  ГАЗАЕВА МУЗЛИМАТ КАСИМОВНА        БАКЛАРЕЦ\n",
              "18  МАХАРАДЗЕ ТАМАРА ИЛЛАРИОНОВНА     ГРУЗИН  \n",
              "19  KELA LAVISA GENRIKOVNA            ФИНН    "
            ]
          },
          "metadata": {
            "tags": []
          },
          "execution_count": 247
        }
      ]
    },
    {
      "cell_type": "code",
      "metadata": {
        "id": "lmXfr9i37R8D",
        "colab_type": "code",
        "colab": {}
      },
      "source": [
        "test.to_csv('/content/drive/My Drive/data2/submission.csv')"
      ],
      "execution_count": 0,
      "outputs": []
    },
    {
      "cell_type": "code",
      "metadata": {
        "id": "NZ8-ccBS7rkO",
        "colab_type": "code",
        "colab": {}
      },
      "source": [
        ""
      ],
      "execution_count": 0,
      "outputs": []
    }
  ]
}